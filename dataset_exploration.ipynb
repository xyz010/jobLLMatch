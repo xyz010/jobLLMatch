{
 "cells": [
  {
   "cell_type": "code",
   "execution_count": 2,
   "metadata": {},
   "outputs": [],
   "source": [
    "import pandas as pd"
   ]
  },
  {
   "cell_type": "code",
   "execution_count": 3,
   "metadata": {},
   "outputs": [],
   "source": [
    "data_path = \"/Users/andreasloutzidis/Downloads/jobLLMatch/Datasets/\""
   ]
  },
  {
   "cell_type": "markdown",
   "metadata": {},
   "source": [
    "# UpdatedResumeDataSet.csv [Resumes]"
   ]
  },
  {
   "cell_type": "code",
   "execution_count": 20,
   "metadata": {},
   "outputs": [
    {
     "name": "stdout",
     "output_type": "stream",
     "text": [
      "Shape: (962, 2)\n"
     ]
    },
    {
     "data": {
      "text/html": [
       "<div>\n",
       "<style scoped>\n",
       "    .dataframe tbody tr th:only-of-type {\n",
       "        vertical-align: middle;\n",
       "    }\n",
       "\n",
       "    .dataframe tbody tr th {\n",
       "        vertical-align: top;\n",
       "    }\n",
       "\n",
       "    .dataframe thead th {\n",
       "        text-align: right;\n",
       "    }\n",
       "</style>\n",
       "<table border=\"1\" class=\"dataframe\">\n",
       "  <thead>\n",
       "    <tr style=\"text-align: right;\">\n",
       "      <th></th>\n",
       "      <th>Category</th>\n",
       "      <th>Resume</th>\n",
       "    </tr>\n",
       "  </thead>\n",
       "  <tbody>\n",
       "    <tr>\n",
       "      <th>0</th>\n",
       "      <td>Data Science</td>\n",
       "      <td>Skills * Programming Languages: Python (pandas, numpy, scipy, scikit-learn, matplotlib), Sql, Ja...</td>\n",
       "    </tr>\n",
       "    <tr>\n",
       "      <th>1</th>\n",
       "      <td>Data Science</td>\n",
       "      <td>Education Details \\r\\nMay 2013 to May 2017 B.E   UIT-RGPV\\r\\nData Scientist \\r\\n\\r\\nData Scienti...</td>\n",
       "    </tr>\n",
       "    <tr>\n",
       "      <th>2</th>\n",
       "      <td>Data Science</td>\n",
       "      <td>Areas of Interest Deep Learning, Control System Design, Programming in-Python, Electric Machiner...</td>\n",
       "    </tr>\n",
       "    <tr>\n",
       "      <th>3</th>\n",
       "      <td>Data Science</td>\n",
       "      <td>Skills â¢ R â¢ Python â¢ SAP HANA â¢ Tableau â¢ SAP HANA SQL â¢ SAP HANA PAL â¢ MS SQL â...</td>\n",
       "    </tr>\n",
       "    <tr>\n",
       "      <th>4</th>\n",
       "      <td>Data Science</td>\n",
       "      <td>Education Details \\r\\n MCA   YMCAUST,  Faridabad,  Haryana\\r\\nData Science internship \\r\\n\\r\\n\\r...</td>\n",
       "    </tr>\n",
       "  </tbody>\n",
       "</table>\n",
       "</div>"
      ],
      "text/plain": [
       "       Category  \\\n",
       "0  Data Science   \n",
       "1  Data Science   \n",
       "2  Data Science   \n",
       "3  Data Science   \n",
       "4  Data Science   \n",
       "\n",
       "                                                                                                Resume  \n",
       "0  Skills * Programming Languages: Python (pandas, numpy, scipy, scikit-learn, matplotlib), Sql, Ja...  \n",
       "1  Education Details \\r\\nMay 2013 to May 2017 B.E   UIT-RGPV\\r\\nData Scientist \\r\\n\\r\\nData Scienti...  \n",
       "2  Areas of Interest Deep Learning, Control System Design, Programming in-Python, Electric Machiner...  \n",
       "3  Skills â¢ R â¢ Python â¢ SAP HANA â¢ Tableau â¢ SAP HANA SQL â¢ SAP HANA PAL â¢ MS SQL â...  \n",
       "4  Education Details \\r\\n MCA   YMCAUST,  Faridabad,  Haryana\\r\\nData Science internship \\r\\n\\r\\n\\r...  "
      ]
     },
     "execution_count": 20,
     "metadata": {},
     "output_type": "execute_result"
    }
   ],
   "source": [
    "df_updatedResumeDataset = pd.read_csv(data_path+\"UpdatedResumeDataSet.csv\")\n",
    "print(f\"Shape: {df_updatedResumeDataset.shape}\")\n",
    "df_updatedResumeDataset.head()"
   ]
  },
  {
   "cell_type": "code",
   "execution_count": 21,
   "metadata": {},
   "outputs": [
    {
     "name": "stdout",
     "output_type": "stream",
     "text": [
      "sample Skills * Programming Languages: Python (pandas, numpy, scipy, scikit-learn, matplotlib), Sql, Java, JavaScript/JQuery. * Machine learning: Regression, SVM, NaÃ¯ve Bayes, KNN, Random Forest, Decision Trees, Boosting techniques, Cluster Analysis, Word Embedding, Sentiment Analysis, Natural Language processing, Dimensionality reduction, Topic Modelling (LDA, NMF), PCA & Neural Nets. * Database Visualizations: Mysql, SqlServer, Cassandra, Hbase, ElasticSearch D3.js, DC.js, Plotly, kibana, matplotlib, ggplot, Tableau. * Others: Regular Expression, HTML, CSS, Angular 6, Logstash, Kafka, Python Flask, Git, Docker, computer vision - Open CV and understanding of Deep learning.Education Details \n",
      "\n",
      "Data Science Assurance Associate \n",
      "\n",
      "Data Science Assurance Associate - Ernst & Young LLP\n",
      "Skill Details \n",
      "JAVASCRIPT- Exprience - 24 months\n",
      "jQuery- Exprience - 24 months\n",
      "Python- Exprience - 24 monthsCompany Details \n",
      "company - Ernst & Young LLP\n",
      "description - Fraud Investigations and Dispute Services   Assurance\n",
      "TECHNOLOGY ASSISTED REVIEW\n",
      "TAR (Technology Assisted Review) assists in accelerating the review process and run analytics and generate reports.\n",
      "* Core member of a team helped in developing automated review platform tool from scratch for assisting E discovery domain, this tool implements predictive coding and topic modelling by automating reviews, resulting in reduced labor costs and time spent during the lawyers review.\n",
      "* Understand the end to end flow of the solution, doing research and development for classification models, predictive analysis and mining of the information present in text data. Worked on analyzing the outputs and precision monitoring for the entire tool.\n",
      "* TAR assists in predictive coding, topic modelling from the evidence by following EY standards. Developed the classifier models in order to identify \"red flags\" and fraud-related issues.\n",
      "\n",
      "Tools & Technologies: Python, scikit-learn, tfidf, word2vec, doc2vec, cosine similarity, NaÃ¯ve Bayes, LDA, NMF for topic modelling, Vader and text blob for sentiment analysis. Matplot lib, Tableau dashboard for reporting.\n",
      "\n",
      "MULTIPLE DATA SCIENCE AND ANALYTIC PROJECTS (USA CLIENTS)\n",
      "TEXT ANALYTICS - MOTOR VEHICLE CUSTOMER REVIEW DATA * Received customer feedback survey data for past one year. Performed sentiment (Positive, Negative & Neutral) and time series analysis on customer comments across all 4 categories.\n",
      "* Created heat map of terms by survey category based on frequency of words * Extracted Positive and Negative words across all the Survey categories and plotted Word cloud.\n",
      "* Created customized tableau dashboards for effective reporting and visualizations.\n",
      "CHATBOT * Developed a user friendly chatbot for one of our Products which handle simple questions about hours of operation, reservation options and so on.\n",
      "* This chat bot serves entire product related questions. Giving overview of tool via QA platform and also give recommendation responses so that user question to build chain of relevant answer.\n",
      "* This too has intelligence to build the pipeline of questions as per user requirement and asks the relevant /recommended questions.\n",
      "\n",
      "Tools & Technologies: Python, Natural language processing, NLTK, spacy, topic modelling, Sentiment analysis, Word Embedding, scikit-learn, JavaScript/JQuery, SqlServer\n",
      "\n",
      "INFORMATION GOVERNANCE\n",
      "Organizations to make informed decisions about all of the information they store. The integrated Information Governance portfolio synthesizes intelligence across unstructured data sources and facilitates action to ensure organizations are best positioned to counter information risk.\n",
      "* Scan data from multiple sources of formats and parse different file formats, extract Meta data information, push results for indexing elastic search and created customized, interactive dashboards using kibana.\n",
      "* Preforming ROT Analysis on the data which give information of data which helps identify content that is either Redundant, Outdated, or Trivial.\n",
      "* Preforming full-text search analysis on elastic search with predefined methods which can tag as (PII) personally identifiable information (social security numbers, addresses, names, etc.) which frequently targeted during cyber-attacks.\n",
      "Tools & Technologies: Python, Flask, Elastic Search, Kibana\n",
      "\n",
      "FRAUD ANALYTIC PLATFORM\n",
      "Fraud Analytics and investigative platform to review all red flag cases.\n",
      "â¢ FAP is a Fraud Analytics and investigative platform with inbuilt case manager and suite of Analytics for various ERP systems.\n",
      "* It can be used by clients to interrogate their Accounting systems for identifying the anomalies which can be indicators of fraud by running advanced analytics\n",
      "Tools & Technologies: HTML, JavaScript, SqlServer, JQuery, CSS, Bootstrap, Node.js, D3.js, DC.js\n",
      "\n",
      "Average length in characters: 3160.364864864865\n"
     ]
    }
   ],
   "source": [
    "print(f\"sample {df_updatedResumeDataset.iloc[0]['Resume']}\\n\")\n",
    "print(f\"Average length in characters: {df_updatedResumeDataset['Resume'].str.len().mean()}\")"
   ]
  },
  {
   "cell_type": "markdown",
   "metadata": {},
   "source": [
    "# data.csv [Job Descriptions]"
   ]
  },
  {
   "cell_type": "code",
   "execution_count": 16,
   "metadata": {},
   "outputs": [
    {
     "name": "stdout",
     "output_type": "stream",
     "text": [
      "Shape: (157, 10)\n"
     ]
    },
    {
     "data": {
      "text/html": [
       "<div>\n",
       "<style scoped>\n",
       "    .dataframe tbody tr th:only-of-type {\n",
       "        vertical-align: middle;\n",
       "    }\n",
       "\n",
       "    .dataframe tbody tr th {\n",
       "        vertical-align: top;\n",
       "    }\n",
       "\n",
       "    .dataframe thead th {\n",
       "        text-align: right;\n",
       "    }\n",
       "</style>\n",
       "<table border=\"1\" class=\"dataframe\">\n",
       "  <thead>\n",
       "    <tr style=\"text-align: right;\">\n",
       "      <th></th>\n",
       "      <th>Unnamed: 0</th>\n",
       "      <th>company</th>\n",
       "      <th>position</th>\n",
       "      <th>url</th>\n",
       "      <th>location</th>\n",
       "      <th>headquaters</th>\n",
       "      <th>employees</th>\n",
       "      <th>founded</th>\n",
       "      <th>industry</th>\n",
       "      <th>Job Description</th>\n",
       "    </tr>\n",
       "  </thead>\n",
       "  <tbody>\n",
       "    <tr>\n",
       "      <th>0</th>\n",
       "      <td>1</td>\n",
       "      <td>Visual BI Solutions Inc</td>\n",
       "      <td>Graduate Intern (Summer 2017) - SAP BI / Big Data / Analytics / Visualization</td>\n",
       "      <td>https://www.glassdoor.com/partner/jobListing.htm?pos=101&amp;ao=4120&amp;s=58&amp;guid=0000015b9476f35987a26...</td>\n",
       "      <td>Plano, TX</td>\n",
       "      <td>Plano, TX</td>\n",
       "      <td>51 to 200 employees</td>\n",
       "      <td>2010</td>\n",
       "      <td>Information Technology</td>\n",
       "      <td>Location: Plano, TX or Oklahoma City, OK Duration: Internship During Summer 2017 Term Job Summa...</td>\n",
       "    </tr>\n",
       "    <tr>\n",
       "      <th>1</th>\n",
       "      <td>2</td>\n",
       "      <td>Jobvertise</td>\n",
       "      <td>Digital Marketing Manager</td>\n",
       "      <td>https://www.glassdoor.com/partner/jobListing.htm?pos=102&amp;ao=129608&amp;s=58&amp;guid=0000015b9476f35987a...</td>\n",
       "      <td>Dallas, TX</td>\n",
       "      <td>Berlin, Germany</td>\n",
       "      <td>1 to 50 employees</td>\n",
       "      <td>2011</td>\n",
       "      <td>Unknown</td>\n",
       "      <td>The Digital Marketing Manager is the front line of patient, consumer and audience engagement fo...</td>\n",
       "    </tr>\n",
       "    <tr>\n",
       "      <th>2</th>\n",
       "      <td>3</td>\n",
       "      <td>Santander Consumer USA</td>\n",
       "      <td>Manager, Pricing Management Information Systems</td>\n",
       "      <td>https://www.glassdoor.com/partner/jobListing.htm?pos=103&amp;ao=199853&amp;s=58&amp;guid=0000015b9476f35987a...</td>\n",
       "      <td>Dallas, TX</td>\n",
       "      <td>Dallas, TX</td>\n",
       "      <td>5001 to 10000 employees</td>\n",
       "      <td>1995</td>\n",
       "      <td>Finance</td>\n",
       "      <td>Summary of Responsibilities:The Manager Pricing MIS will be responsible for assisting the Prici...</td>\n",
       "    </tr>\n",
       "    <tr>\n",
       "      <th>3</th>\n",
       "      <td>4</td>\n",
       "      <td>Federal Reserve Bank of Dallas</td>\n",
       "      <td>Treasury Services Analyst Internship</td>\n",
       "      <td>https://www.glassdoor.com/partner/jobListing.htm?pos=104&amp;ao=173866&amp;s=58&amp;guid=0000015b9476f35987a...</td>\n",
       "      <td>Dallas, TX</td>\n",
       "      <td>Dallas, TX</td>\n",
       "      <td>1001 to 5000 employees</td>\n",
       "      <td>1914</td>\n",
       "      <td>Finance</td>\n",
       "      <td>ORGANIZATIONAL SUMMARY:   As part of the nation’s central bank, the Federal Reserve Bank of Dal...</td>\n",
       "    </tr>\n",
       "    <tr>\n",
       "      <th>4</th>\n",
       "      <td>5</td>\n",
       "      <td>Aviall</td>\n",
       "      <td>Intern, Sales Analyst</td>\n",
       "      <td>https://www.glassdoor.com/partner/jobListing.htm?pos=105&amp;ao=201793&amp;s=58&amp;guid=0000015b9476f35987a...</td>\n",
       "      <td>Dallas, TX</td>\n",
       "      <td>Dallas, TX</td>\n",
       "      <td>1001 to 5000 employees</td>\n",
       "      <td>Boeing</td>\n",
       "      <td>Subsidiary or Business Segment</td>\n",
       "      <td>Aviall is the world's largest provider of new aviation parts and related aftermarket services...</td>\n",
       "    </tr>\n",
       "  </tbody>\n",
       "</table>\n",
       "</div>"
      ],
      "text/plain": [
       "   Unnamed: 0                          company  \\\n",
       "0           1          Visual BI Solutions Inc   \n",
       "1           2                       Jobvertise   \n",
       "2           3           Santander Consumer USA   \n",
       "3           4   Federal Reserve Bank of Dallas   \n",
       "4           5                           Aviall   \n",
       "\n",
       "                                                                        position  \\\n",
       "0  Graduate Intern (Summer 2017) - SAP BI / Big Data / Analytics / Visualization   \n",
       "1                                                      Digital Marketing Manager   \n",
       "2                                Manager, Pricing Management Information Systems   \n",
       "3                                           Treasury Services Analyst Internship   \n",
       "4                                                          Intern, Sales Analyst   \n",
       "\n",
       "                                                                                                   url  \\\n",
       "0  https://www.glassdoor.com/partner/jobListing.htm?pos=101&ao=4120&s=58&guid=0000015b9476f35987a26...   \n",
       "1  https://www.glassdoor.com/partner/jobListing.htm?pos=102&ao=129608&s=58&guid=0000015b9476f35987a...   \n",
       "2  https://www.glassdoor.com/partner/jobListing.htm?pos=103&ao=199853&s=58&guid=0000015b9476f35987a...   \n",
       "3  https://www.glassdoor.com/partner/jobListing.htm?pos=104&ao=173866&s=58&guid=0000015b9476f35987a...   \n",
       "4  https://www.glassdoor.com/partner/jobListing.htm?pos=105&ao=201793&s=58&guid=0000015b9476f35987a...   \n",
       "\n",
       "      location      headquaters                employees founded  \\\n",
       "0    Plano, TX        Plano, TX      51 to 200 employees    2010   \n",
       "1   Dallas, TX  Berlin, Germany        1 to 50 employees    2011   \n",
       "2   Dallas, TX       Dallas, TX  5001 to 10000 employees    1995   \n",
       "3   Dallas, TX       Dallas, TX   1001 to 5000 employees    1914   \n",
       "4   Dallas, TX       Dallas, TX   1001 to 5000 employees  Boeing   \n",
       "\n",
       "                         industry  \\\n",
       "0          Information Technology   \n",
       "1                         Unknown   \n",
       "2                         Finance   \n",
       "3                         Finance   \n",
       "4  Subsidiary or Business Segment   \n",
       "\n",
       "                                                                                       Job Description  \n",
       "0   Location: Plano, TX or Oklahoma City, OK Duration: Internship During Summer 2017 Term Job Summa...  \n",
       "1   The Digital Marketing Manager is the front line of patient, consumer and audience engagement fo...  \n",
       "2   Summary of Responsibilities:The Manager Pricing MIS will be responsible for assisting the Prici...  \n",
       "3   ORGANIZATIONAL SUMMARY:   As part of the nation’s central bank, the Federal Reserve Bank of Dal...  \n",
       "4     Aviall is the world's largest provider of new aviation parts and related aftermarket services...  "
      ]
     },
     "execution_count": 16,
     "metadata": {},
     "output_type": "execute_result"
    }
   ],
   "source": [
    "df_data = pd.read_csv(data_path+\"data.csv\")\n",
    "print(f\"Shape: {df_data.shape}\")\n",
    "df_data.head()"
   ]
  },
  {
   "cell_type": "code",
   "execution_count": 22,
   "metadata": {},
   "outputs": [
    {
     "name": "stdout",
     "output_type": "stream",
     "text": [
      "Sample Job Description:  Location: Plano, TX or Oklahoma City, OK Duration: Internship During Summer 2017 Term Job Summary:  Visual BI Solutions Inc is seeking Graduate Interns with strong expertise/passion in BI or Big Data & Analytics Solutions (SAP BW or SAP HANA or Oracle / MS SQL EDW / PL/SQL / BODS / SAS / Big Data / Visualization Tools) to join our College Recruiting Hiring Program. In this role, you would be building best-in-class BI, Analytics & Big Data Solutions that would be consumed by leaders and executives of Fortune 500 organizations.  A strong sense of business analysis, ETL, Data Modeling, Data Warehousing, Visualization, Reporting, Advanced Analytics and data interpretation are some of the key attributes we look for. As a market leader in SAP BI & Analytics - Visual BI is very selective in student hiring and so candidates with portfolio of non-academic project work/technical blogs will be preferred over work experience or academic GPA Scores. You will be asked to hone your BI & Analytics expertise during your internship and you will be working with some of the best customers and BI talent in the world Requirements-2+ years of IT BI / EDW / ETL / Big Data development or Relevant Work BI/DataWarehousing experience is Preferred -Visual BI will consider your non-academic projects to showcase your experience in these areas -Experience with SAP HANA or SAP BW or SAP BODS or Big Data Frameworks (Hadoop/Spark, ..) a PLUS- Candidates with Reporting or Web Development Skills (CSS/JavaScript/UI5/Fiori) will also be considereBenefits Be on the forefront of learning and innovation! You'll have 24x7 access to Visual BI Labs, our learning environment that hosts all leading-edge innovations in BI with excellent training and development opportunities during Internship  10 - 12 weeks of Paid Internship  Opportunities to secure full-time roles in BI & Analytics with Visual BI  \n",
      "\n",
      "Average length in characters: 3758.1783439490446\n"
     ]
    }
   ],
   "source": [
    "\n",
    "print(f\"Sample Job Description: {df_data.iloc[0]['Job Description']}\\n\")\n",
    "print(f\"Average length in characters: {df_data['Job Description'].str.len().mean()}\")"
   ]
  }
 ],
 "metadata": {
  "kernelspec": {
   "display_name": "Python 3 (ipykernel)",
   "language": "python",
   "name": "python3"
  },
  "language_info": {
   "codemirror_mode": {
    "name": "ipython",
    "version": 3
   },
   "file_extension": ".py",
   "mimetype": "text/x-python",
   "name": "python",
   "nbconvert_exporter": "python",
   "pygments_lexer": "ipython3",
   "version": "3.11.5"
  }
 },
 "nbformat": 4,
 "nbformat_minor": 2
}
