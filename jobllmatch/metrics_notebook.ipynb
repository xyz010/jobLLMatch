{
 "cells": [
  {
   "cell_type": "markdown",
   "metadata": {},
   "source": [
    "# Usage\n",
    "\n",
    "- loads generated data from test dataset\n",
    "- plots scores distributions\n",
    "- calculates similarity metrics"
   ]
  },
  {
   "cell_type": "code",
   "execution_count": 12,
   "metadata": {},
   "outputs": [],
   "source": [
    "import pandas as pd\n",
    "import matplotlib.pyplot as plt\n",
    "import seaborn as sns\n",
    "from bert_score import score\n",
    "from rouge_score import rouge_scorer"
   ]
  },
  {
   "cell_type": "markdown",
   "metadata": {},
   "source": [
    "# Load the test data together with the generated scores and reports"
   ]
  },
  {
   "cell_type": "code",
   "execution_count": 4,
   "metadata": {},
   "outputs": [
    {
     "data": {
      "text/plain": [
       "(1028, 10)"
      ]
     },
     "execution_count": 4,
     "metadata": {},
     "output_type": "execute_result"
    }
   ],
   "source": [
    "df = pd.read_pickle(\"combined_df_test_and_results.pkl\")\n",
    "df.shape"
   ]
  },
  {
   "cell_type": "code",
   "execution_count": 5,
   "metadata": {},
   "outputs": [
    {
     "data": {
      "text/html": [
       "<div>\n",
       "<style scoped>\n",
       "    .dataframe tbody tr th:only-of-type {\n",
       "        vertical-align: middle;\n",
       "    }\n",
       "\n",
       "    .dataframe tbody tr th {\n",
       "        vertical-align: top;\n",
       "    }\n",
       "\n",
       "    .dataframe thead th {\n",
       "        text-align: right;\n",
       "    }\n",
       "</style>\n",
       "<table border=\"1\" class=\"dataframe\">\n",
       "  <thead>\n",
       "    <tr style=\"text-align: right;\">\n",
       "      <th></th>\n",
       "      <th>resume</th>\n",
       "      <th>job</th>\n",
       "      <th>score</th>\n",
       "      <th>report</th>\n",
       "      <th>prompt</th>\n",
       "      <th>res_and_job</th>\n",
       "      <th>score_and_report</th>\n",
       "      <th>generated_report</th>\n",
       "      <th>score_from_report</th>\n",
       "      <th>report_from_report</th>\n",
       "    </tr>\n",
       "  </thead>\n",
       "  <tbody>\n",
       "    <tr>\n",
       "      <th>145</th>\n",
       "      <td>kavya baltha data scientist linkedin i summary...</td>\n",
       "      <td>about you you love breaking down complex probl...</td>\n",
       "      <td>0.85</td>\n",
       "      <td>The candidate has a Master's in Computer Scien...</td>\n",
       "      <td>&lt;&lt;RESUME&gt;&gt; kavya baltha data scientist linkedi...</td>\n",
       "      <td>&lt;&lt;RESUME&gt;&gt; kavya baltha data scientist linkedi...</td>\n",
       "      <td>&lt;&lt;SCORE&gt;&gt; 0.85, &lt;&lt;REPORT&gt;&gt; The candidate has a...</td>\n",
       "      <td>&lt;&lt;SCORE&gt;&gt; 0.8, &lt;&lt;REPORT&gt;&gt; The candidate has a ...</td>\n",
       "      <td>0.80</td>\n",
       "      <td>The candidate has a strong background in data ...</td>\n",
       "    </tr>\n",
       "    <tr>\n",
       "      <th>1628</th>\n",
       "      <td>john yoo software engineer 10 2022 02 2023 xac...</td>\n",
       "      <td>what you ll do understand design iterate and s...</td>\n",
       "      <td>0.7</td>\n",
       "      <td>The candidate has a strong background in softw...</td>\n",
       "      <td>&lt;&lt;RESUME&gt;&gt; john yoo software engineer 10 2022 ...</td>\n",
       "      <td>&lt;&lt;RESUME&gt;&gt; john yoo software engineer 10 2022 ...</td>\n",
       "      <td>&lt;&lt;SCORE&gt;&gt; 0.7, &lt;&lt;REPORT&gt;&gt; The candidate has a ...</td>\n",
       "      <td>&lt;&lt;SCORE&gt;&gt; 0.8, &lt;&lt;REPORT&gt;&gt; The candidate has a ...</td>\n",
       "      <td>0.80</td>\n",
       "      <td>The candidate has a strong background in softw...</td>\n",
       "    </tr>\n",
       "    <tr>\n",
       "      <th>1641</th>\n",
       "      <td>sairam tabibu seattle wa email me on indeed wi...</td>\n",
       "      <td>you have 8 years of experience designing modif...</td>\n",
       "      <td>0.8</td>\n",
       "      <td>The candidate has a strong background in softw...</td>\n",
       "      <td>&lt;&lt;RESUME&gt;&gt; sairam tabibu seattle wa email me o...</td>\n",
       "      <td>&lt;&lt;RESUME&gt;&gt; sairam tabibu seattle wa email me o...</td>\n",
       "      <td>&lt;&lt;SCORE&gt;&gt; 0.8, &lt;&lt;REPORT&gt;&gt; The candidate has a ...</td>\n",
       "      <td>&lt;&lt;SCORE&gt;&gt; 0.85, &lt;&lt;REPORT&gt;&gt; The candidate has a...</td>\n",
       "      <td>0.85</td>\n",
       "      <td>The candidate has a strong educational backgro...</td>\n",
       "    </tr>\n",
       "    <tr>\n",
       "      <th>1802</th>\n",
       "      <td>144 lewis street valley stream ny 11 marie gre...</td>\n",
       "      <td>who you ll work with as an engineer you will w...</td>\n",
       "      <td>0.7</td>\n",
       "      <td>The resume is a good match for the job. The ca...</td>\n",
       "      <td>&lt;&lt;RESUME&gt;&gt; 144 lewis street valley stream ny 1...</td>\n",
       "      <td>&lt;&lt;RESUME&gt;&gt; 144 lewis street valley stream ny 1...</td>\n",
       "      <td>&lt;&lt;SCORE&gt;&gt; 0.7, &lt;&lt;REPORT&gt;&gt; The resume is a good...</td>\n",
       "      <td>&lt;&lt;SCORE&gt;&gt; 0.8, &lt;&lt;REPORT&gt;&gt; The candidate has a ...</td>\n",
       "      <td>0.80</td>\n",
       "      <td>The candidate has a strong background in data ...</td>\n",
       "    </tr>\n",
       "    <tr>\n",
       "      <th>1819</th>\n",
       "      <td>hardhika venkatesan data scientist lewis cente...</td>\n",
       "      <td>job title sr software quality engineer android...</td>\n",
       "      <td>0.7</td>\n",
       "      <td>The candidate has a strong background in data ...</td>\n",
       "      <td>&lt;&lt;RESUME&gt;&gt; hardhika venkatesan data scientist ...</td>\n",
       "      <td>&lt;&lt;RESUME&gt;&gt; hardhika venkatesan data scientist ...</td>\n",
       "      <td>&lt;&lt;SCORE&gt;&gt; 0.7, &lt;&lt;REPORT&gt;&gt; The candidate has a ...</td>\n",
       "      <td>&lt;&lt;SCORE&gt;&gt; 0.8, &lt;&lt;REPORT&gt;&gt; The candidate has a ...</td>\n",
       "      <td>0.80</td>\n",
       "      <td>The candidate has a strong background in data ...</td>\n",
       "    </tr>\n",
       "  </tbody>\n",
       "</table>\n",
       "</div>"
      ],
      "text/plain": [
       "                                                 resume  \\\n",
       "145   kavya baltha data scientist linkedin i summary...   \n",
       "1628  john yoo software engineer 10 2022 02 2023 xac...   \n",
       "1641  sairam tabibu seattle wa email me on indeed wi...   \n",
       "1802  144 lewis street valley stream ny 11 marie gre...   \n",
       "1819  hardhika venkatesan data scientist lewis cente...   \n",
       "\n",
       "                                                    job score  \\\n",
       "145   about you you love breaking down complex probl...  0.85   \n",
       "1628  what you ll do understand design iterate and s...   0.7   \n",
       "1641  you have 8 years of experience designing modif...   0.8   \n",
       "1802  who you ll work with as an engineer you will w...   0.7   \n",
       "1819  job title sr software quality engineer android...   0.7   \n",
       "\n",
       "                                                 report  \\\n",
       "145   The candidate has a Master's in Computer Scien...   \n",
       "1628  The candidate has a strong background in softw...   \n",
       "1641  The candidate has a strong background in softw...   \n",
       "1802  The resume is a good match for the job. The ca...   \n",
       "1819  The candidate has a strong background in data ...   \n",
       "\n",
       "                                                 prompt  \\\n",
       "145   <<RESUME>> kavya baltha data scientist linkedi...   \n",
       "1628  <<RESUME>> john yoo software engineer 10 2022 ...   \n",
       "1641  <<RESUME>> sairam tabibu seattle wa email me o...   \n",
       "1802  <<RESUME>> 144 lewis street valley stream ny 1...   \n",
       "1819  <<RESUME>> hardhika venkatesan data scientist ...   \n",
       "\n",
       "                                            res_and_job  \\\n",
       "145   <<RESUME>> kavya baltha data scientist linkedi...   \n",
       "1628  <<RESUME>> john yoo software engineer 10 2022 ...   \n",
       "1641  <<RESUME>> sairam tabibu seattle wa email me o...   \n",
       "1802  <<RESUME>> 144 lewis street valley stream ny 1...   \n",
       "1819  <<RESUME>> hardhika venkatesan data scientist ...   \n",
       "\n",
       "                                       score_and_report  \\\n",
       "145   <<SCORE>> 0.85, <<REPORT>> The candidate has a...   \n",
       "1628  <<SCORE>> 0.7, <<REPORT>> The candidate has a ...   \n",
       "1641  <<SCORE>> 0.8, <<REPORT>> The candidate has a ...   \n",
       "1802  <<SCORE>> 0.7, <<REPORT>> The resume is a good...   \n",
       "1819  <<SCORE>> 0.7, <<REPORT>> The candidate has a ...   \n",
       "\n",
       "                                       generated_report  score_from_report  \\\n",
       "145   <<SCORE>> 0.8, <<REPORT>> The candidate has a ...               0.80   \n",
       "1628  <<SCORE>> 0.8, <<REPORT>> The candidate has a ...               0.80   \n",
       "1641  <<SCORE>> 0.85, <<REPORT>> The candidate has a...               0.85   \n",
       "1802  <<SCORE>> 0.8, <<REPORT>> The candidate has a ...               0.80   \n",
       "1819  <<SCORE>> 0.8, <<REPORT>> The candidate has a ...               0.80   \n",
       "\n",
       "                                     report_from_report  \n",
       "145   The candidate has a strong background in data ...  \n",
       "1628  The candidate has a strong background in softw...  \n",
       "1641  The candidate has a strong educational backgro...  \n",
       "1802  The candidate has a strong background in data ...  \n",
       "1819  The candidate has a strong background in data ...  "
      ]
     },
     "execution_count": 5,
     "metadata": {},
     "output_type": "execute_result"
    }
   ],
   "source": [
    "df.head()"
   ]
  },
  {
   "cell_type": "code",
   "execution_count": 8,
   "metadata": {},
   "outputs": [],
   "source": [
    "#convert the score column into float\n",
    "df['score'] = df['score'].astype(float)"
   ]
  },
  {
   "cell_type": "code",
   "execution_count": 9,
   "metadata": {},
   "outputs": [
    {
     "data": {
      "text/plain": [
       "count    1028.000000\n",
       "mean        0.747325\n",
       "std         0.084972\n",
       "min         0.200000\n",
       "25%         0.700000\n",
       "50%         0.800000\n",
       "75%         0.800000\n",
       "max         0.900000\n",
       "Name: score, dtype: float64"
      ]
     },
     "execution_count": 9,
     "metadata": {},
     "output_type": "execute_result"
    }
   ],
   "source": [
    "df.score.describe()"
   ]
  },
  {
   "cell_type": "code",
   "execution_count": 7,
   "metadata": {},
   "outputs": [
    {
     "data": {
      "text/plain": [
       "count    1028.000000\n",
       "mean        0.781615\n",
       "std         0.046467\n",
       "min         0.700000\n",
       "25%         0.800000\n",
       "50%         0.800000\n",
       "75%         0.800000\n",
       "max         0.850000\n",
       "Name: score_from_report, dtype: float64"
      ]
     },
     "execution_count": 7,
     "metadata": {},
     "output_type": "execute_result"
    }
   ],
   "source": [
    "df.score_from_report.describe()"
   ]
  },
  {
   "cell_type": "markdown",
   "metadata": {},
   "source": [
    "# Plot score and generated score distribution"
   ]
  },
  {
   "cell_type": "code",
   "execution_count": 26,
   "metadata": {},
   "outputs": [
    {
     "data": {
      "image/png": "[encoded data removed]",
      "text/plain": [
       "<Figure size 1000x1200 with 2 Axes>"
      ]
     },
     "metadata": {},
     "output_type": "display_data"
    }
   ],
   "source": [
    "sns.set_style(\"darkgrid\")\n",
    "fig, (ax1, ax2) = plt.subplots(2, 1, figsize=(10, 12))\n",
    "\n",
    "sns.histplot(df['score'], bins=20, ax=ax1)\n",
    "ax1.set_title(\"Distribution of the scores in the test dataset\")\n",
    "ax1.set_xlabel(\"Score\")\n",
    "ax1.set_ylabel(\"Count\")\n",
    "ax1.set_xlim(0.2, 0.9)\n",
    "\n",
    "sns.histplot(x=df['score_from_report'], ax=ax2)\n",
    "ax2.set_title(\"Distribution of the generated scores in the test dataset\")\n",
    "ax2.set_xlabel(\"Score\")\n",
    "ax2.set_ylabel(\"Count\")\n",
    "ax2.set_xlim(0.2, 0.9)\n",
    "\n",
    "plt.tight_layout()\n",
    "# plt.savefig(\"combined_score_distributions.png\")\n",
    "plt.show()\n"
   ]
  },
  {
   "cell_type": "code",
   "execution_count": 27,
   "metadata": {},
   "outputs": [
    {
     "data": {
      "text/html": [
       "<div>\n",
       "<style scoped>\n",
       "    .dataframe tbody tr th:only-of-type {\n",
       "        vertical-align: middle;\n",
       "    }\n",
       "\n",
       "    .dataframe tbody tr th {\n",
       "        vertical-align: top;\n",
       "    }\n",
       "\n",
       "    .dataframe thead th {\n",
       "        text-align: right;\n",
       "    }\n",
       "</style>\n",
       "<table border=\"1\" class=\"dataframe\">\n",
       "  <thead>\n",
       "    <tr style=\"text-align: right;\">\n",
       "      <th></th>\n",
       "      <th>resume</th>\n",
       "      <th>job</th>\n",
       "      <th>score</th>\n",
       "      <th>report</th>\n",
       "      <th>prompt</th>\n",
       "      <th>res_and_job</th>\n",
       "      <th>score_and_report</th>\n",
       "      <th>generated_report</th>\n",
       "      <th>score_from_report</th>\n",
       "      <th>report_from_report</th>\n",
       "    </tr>\n",
       "  </thead>\n",
       "  <tbody>\n",
       "    <tr>\n",
       "      <th>145</th>\n",
       "      <td>kavya baltha data scientist linkedin i summary...</td>\n",
       "      <td>about you you love breaking down complex probl...</td>\n",
       "      <td>0.85</td>\n",
       "      <td>The candidate has a Master's in Computer Scien...</td>\n",
       "      <td>&lt;&lt;RESUME&gt;&gt; kavya baltha data scientist linkedi...</td>\n",
       "      <td>&lt;&lt;RESUME&gt;&gt; kavya baltha data scientist linkedi...</td>\n",
       "      <td>&lt;&lt;SCORE&gt;&gt; 0.85, &lt;&lt;REPORT&gt;&gt; The candidate has a...</td>\n",
       "      <td>&lt;&lt;SCORE&gt;&gt; 0.8, &lt;&lt;REPORT&gt;&gt; The candidate has a ...</td>\n",
       "      <td>0.80</td>\n",
       "      <td>The candidate has a strong background in data ...</td>\n",
       "    </tr>\n",
       "    <tr>\n",
       "      <th>1628</th>\n",
       "      <td>john yoo software engineer 10 2022 02 2023 xac...</td>\n",
       "      <td>what you ll do understand design iterate and s...</td>\n",
       "      <td>0.70</td>\n",
       "      <td>The candidate has a strong background in softw...</td>\n",
       "      <td>&lt;&lt;RESUME&gt;&gt; john yoo software engineer 10 2022 ...</td>\n",
       "      <td>&lt;&lt;RESUME&gt;&gt; john yoo software engineer 10 2022 ...</td>\n",
       "      <td>&lt;&lt;SCORE&gt;&gt; 0.7, &lt;&lt;REPORT&gt;&gt; The candidate has a ...</td>\n",
       "      <td>&lt;&lt;SCORE&gt;&gt; 0.8, &lt;&lt;REPORT&gt;&gt; The candidate has a ...</td>\n",
       "      <td>0.80</td>\n",
       "      <td>The candidate has a strong background in softw...</td>\n",
       "    </tr>\n",
       "    <tr>\n",
       "      <th>1641</th>\n",
       "      <td>sairam tabibu seattle wa email me on indeed wi...</td>\n",
       "      <td>you have 8 years of experience designing modif...</td>\n",
       "      <td>0.80</td>\n",
       "      <td>The candidate has a strong background in softw...</td>\n",
       "      <td>&lt;&lt;RESUME&gt;&gt; sairam tabibu seattle wa email me o...</td>\n",
       "      <td>&lt;&lt;RESUME&gt;&gt; sairam tabibu seattle wa email me o...</td>\n",
       "      <td>&lt;&lt;SCORE&gt;&gt; 0.8, &lt;&lt;REPORT&gt;&gt; The candidate has a ...</td>\n",
       "      <td>&lt;&lt;SCORE&gt;&gt; 0.85, &lt;&lt;REPORT&gt;&gt; The candidate has a...</td>\n",
       "      <td>0.85</td>\n",
       "      <td>The candidate has a strong educational backgro...</td>\n",
       "    </tr>\n",
       "    <tr>\n",
       "      <th>1802</th>\n",
       "      <td>144 lewis street valley stream ny 11 marie gre...</td>\n",
       "      <td>who you ll work with as an engineer you will w...</td>\n",
       "      <td>0.70</td>\n",
       "      <td>The resume is a good match for the job. The ca...</td>\n",
       "      <td>&lt;&lt;RESUME&gt;&gt; 144 lewis street valley stream ny 1...</td>\n",
       "      <td>&lt;&lt;RESUME&gt;&gt; 144 lewis street valley stream ny 1...</td>\n",
       "      <td>&lt;&lt;SCORE&gt;&gt; 0.7, &lt;&lt;REPORT&gt;&gt; The resume is a good...</td>\n",
       "      <td>&lt;&lt;SCORE&gt;&gt; 0.8, &lt;&lt;REPORT&gt;&gt; The candidate has a ...</td>\n",
       "      <td>0.80</td>\n",
       "      <td>The candidate has a strong background in data ...</td>\n",
       "    </tr>\n",
       "    <tr>\n",
       "      <th>1819</th>\n",
       "      <td>hardhika venkatesan data scientist lewis cente...</td>\n",
       "      <td>job title sr software quality engineer android...</td>\n",
       "      <td>0.70</td>\n",
       "      <td>The candidate has a strong background in data ...</td>\n",
       "      <td>&lt;&lt;RESUME&gt;&gt; hardhika venkatesan data scientist ...</td>\n",
       "      <td>&lt;&lt;RESUME&gt;&gt; hardhika venkatesan data scientist ...</td>\n",
       "      <td>&lt;&lt;SCORE&gt;&gt; 0.7, &lt;&lt;REPORT&gt;&gt; The candidate has a ...</td>\n",
       "      <td>&lt;&lt;SCORE&gt;&gt; 0.8, &lt;&lt;REPORT&gt;&gt; The candidate has a ...</td>\n",
       "      <td>0.80</td>\n",
       "      <td>The candidate has a strong background in data ...</td>\n",
       "    </tr>\n",
       "  </tbody>\n",
       "</table>\n",
       "</div>"
      ],
      "text/plain": [
       "                                                 resume  \\\n",
       "145   kavya baltha data scientist linkedin i summary...   \n",
       "1628  john yoo software engineer 10 2022 02 2023 xac...   \n",
       "1641  sairam tabibu seattle wa email me on indeed wi...   \n",
       "1802  144 lewis street valley stream ny 11 marie gre...   \n",
       "1819  hardhika venkatesan data scientist lewis cente...   \n",
       "\n",
       "                                                    job  score  \\\n",
       "145   about you you love breaking down complex probl...   0.85   \n",
       "1628  what you ll do understand design iterate and s...   0.70   \n",
       "1641  you have 8 years of experience designing modif...   0.80   \n",
       "1802  who you ll work with as an engineer you will w...   0.70   \n",
       "1819  job title sr software quality engineer android...   0.70   \n",
       "\n",
       "                                                 report  \\\n",
       "145   The candidate has a Master's in Computer Scien...   \n",
       "1628  The candidate has a strong background in softw...   \n",
       "1641  The candidate has a strong background in softw...   \n",
       "1802  The resume is a good match for the job. The ca...   \n",
       "1819  The candidate has a strong background in data ...   \n",
       "\n",
       "                                                 prompt  \\\n",
       "145   <<RESUME>> kavya baltha data scientist linkedi...   \n",
       "1628  <<RESUME>> john yoo software engineer 10 2022 ...   \n",
       "1641  <<RESUME>> sairam tabibu seattle wa email me o...   \n",
       "1802  <<RESUME>> 144 lewis street valley stream ny 1...   \n",
       "1819  <<RESUME>> hardhika venkatesan data scientist ...   \n",
       "\n",
       "                                            res_and_job  \\\n",
       "145   <<RESUME>> kavya baltha data scientist linkedi...   \n",
       "1628  <<RESUME>> john yoo software engineer 10 2022 ...   \n",
       "1641  <<RESUME>> sairam tabibu seattle wa email me o...   \n",
       "1802  <<RESUME>> 144 lewis street valley stream ny 1...   \n",
       "1819  <<RESUME>> hardhika venkatesan data scientist ...   \n",
       "\n",
       "                                       score_and_report  \\\n",
       "145   <<SCORE>> 0.85, <<REPORT>> The candidate has a...   \n",
       "1628  <<SCORE>> 0.7, <<REPORT>> The candidate has a ...   \n",
       "1641  <<SCORE>> 0.8, <<REPORT>> The candidate has a ...   \n",
       "1802  <<SCORE>> 0.7, <<REPORT>> The resume is a good...   \n",
       "1819  <<SCORE>> 0.7, <<REPORT>> The candidate has a ...   \n",
       "\n",
       "                                       generated_report  score_from_report  \\\n",
       "145   <<SCORE>> 0.8, <<REPORT>> The candidate has a ...               0.80   \n",
       "1628  <<SCORE>> 0.8, <<REPORT>> The candidate has a ...               0.80   \n",
       "1641  <<SCORE>> 0.85, <<REPORT>> The candidate has a...               0.85   \n",
       "1802  <<SCORE>> 0.8, <<REPORT>> The candidate has a ...               0.80   \n",
       "1819  <<SCORE>> 0.8, <<REPORT>> The candidate has a ...               0.80   \n",
       "\n",
       "                                     report_from_report  \n",
       "145   The candidate has a strong background in data ...  \n",
       "1628  The candidate has a strong background in softw...  \n",
       "1641  The candidate has a strong educational backgro...  \n",
       "1802  The candidate has a strong background in data ...  \n",
       "1819  The candidate has a strong background in data ...  "
      ]
     },
     "execution_count": 27,
     "metadata": {},
     "output_type": "execute_result"
    }
   ],
   "source": [
    "df.head()\n"
   ]
  },
  {
   "cell_type": "code",
   "execution_count": 32,
   "metadata": {},
   "outputs": [
    {
     "data": {
      "text/plain": [
       "\"The candidate has a Master's in Computer Science and 3 years of experience as a Data Scientist. They have experience in data extraction, data modeling, data wrangling, statistical modeling, machine learning, and data visualization. They are proficient in various stages of the software development life cycle (SDLC) and have experience in implementing waterfall and agile methodologies. They have good experience in machine learning regression algorithms, data packages, and data visualization tools. They are also skilled in database management with hands-on experience in SQL Server and MySQL. \\n\\nThe candidate's skills and experience are highly relevant to the job requirements. They have experience working with APIs and back-end technologies, strong system design skills, and experience working with distributed systems. They have experience working with NodeJS, PostgreSQL, Redis, and Git. They are familiar with various API authentication and authorization methods, particularly OAuth. They have experience using a cloud provider (AWS) and a distributed messaging system. They also have strong knowledge of testing best practices.\\n\\nOverall, the candidate is a strong match for the job and has the skills and experience to be successful in the role.\""
      ]
     },
     "execution_count": 32,
     "metadata": {},
     "output_type": "execute_result"
    }
   ],
   "source": [
    "df.iloc[0].report\n"
   ]
  },
  {
   "cell_type": "markdown",
   "metadata": {},
   "source": [
    "# Feedback report from PALM-2\n",
    "\n",
    "\"The candidate has a Master's in Computer Science and 3 years of experience as a Data Scientist. They have experience in data extraction, data modeling, data wrangling, statistical modeling, machine learning, and data visualization. They are proficient in various stages of the software development life cycle (SDLC) and have experience in implementing waterfall and agile methodologies. They have good experience in machine learning regression algorithms, data packages, and data visualization tools. They are also skilled in database management with hands-on experience in SQL Server and MySQL. \\n\\nThe candidate's skills and experience are highly relevant to the job requirements. They have experience working with APIs and back-end technologies, strong system design skills, and experience working with distributed systems. They have experience working with NodeJS, PostgreSQL, Redis, and Git. They are familiar with various API authentication and authorization methods, particularly OAuth. They have experience using a cloud provider (AWS) and a distributed messaging system. They also have strong knowledge of testing best practices.\\n\\nOverall, the candidate is a strong match for the job and has the skills and experience to be successful in the role.\"\n",
    "\n"
   ]
  },
  {
   "cell_type": "code",
   "execution_count": 31,
   "metadata": {},
   "outputs": [
    {
     "data": {
      "text/plain": [
       "\"The candidate has a strong background in data science and machine learning, with a Master's degree in Computer Science from George Mason University and a Bachelor's degree from Jawaharlal Nehru Institute of Technology. They have 3 years of experience as a Data Scientist at Amazon, where they used Python, R, SQL, and SAS to perform data analysis and extract valuable insights from large datasets. They also developed an ensemble classification model using Adaboost to prognosticate the likelihood of a drug given its topological shapes and other characteristics. The candidate's skills and experience are a good match for the job requirements, and they would likely be able to make a significant contribution to the team.\""
      ]
     },
     "execution_count": 31,
     "metadata": {},
     "output_type": "execute_result"
    }
   ],
   "source": [
    "df.iloc[0].report_from_report"
   ]
  },
  {
   "cell_type": "markdown",
   "metadata": {},
   "source": [
    "# Feedback report from fine-tuned BART\n",
    "\n",
    "\"<<SCORE>> 0.8, <<REPORT>> The candidate has a strong background in data science and machine learning, with a Master's degree in Computer Science from George Mason University and a Bachelor's degree from Jawaharlal Nehru Institute of Technology. They have 3 years of experience as a Data Scientist at Amazon, where they used Python, R, SQL, and SAS to perform data analysis and extract valuable insights from large datasets. They also developed an ensemble classification model using Adaboost to prognosticate the likelihood of a drug given its topological shapes and other characteristics. The candidate's skills and experience are a good match for the job requirements, and they would likely be able to make a significant contribution to the team.\"\n"
   ]
  },
  {
   "cell_type": "markdown",
   "metadata": {},
   "source": [
    "# Calculate Similarity Metrics"
   ]
  },
  {
   "cell_type": "markdown",
   "metadata": {},
   "source": [
    "## 1. Mean Absolute error of the score"
   ]
  },
  {
   "cell_type": "code",
   "execution_count": 34,
   "metadata": {},
   "outputs": [
    {
     "data": {
      "text/plain": [
       "0.05588521400778212"
      ]
     },
     "execution_count": 34,
     "metadata": {},
     "output_type": "execute_result"
    }
   ],
   "source": [
    "mae = (abs(df['score'] - df['score_from_report'])).mean()\n",
    "mae"
   ]
  },
  {
   "cell_type": "markdown",
   "metadata": {},
   "source": [
    "The Mean Absolute Error is 0.056 (rounded) between the original matching scores and the scores generated by teh fine-tuned BART model."
   ]
  },
  {
   "cell_type": "markdown",
   "metadata": {},
   "source": [
    "## 2. Universal Sentence Encoding"
   ]
  },
  {
   "cell_type": "markdown",
   "metadata": {},
   "source": [
    "Refer to the `semantic_similarity_with_universal_sentence_encoding.ipynb` for implementation"
   ]
  },
  {
   "cell_type": "markdown",
   "metadata": {},
   "source": [
    "# 3. BERTScore"
   ]
  },
  {
   "cell_type": "markdown",
   "metadata": {},
   "source": [
    "Refer to the `semantic_similarity_with_universal_sentence_encoding.ipynb` for implementation\n",
    "Based on to https://colab.research.google.com/drive/1kpL8Y_AnUUiCxFjhxSrxCsc6-sDMNb_Q"
   ]
  },
  {
   "cell_type": "code",
   "execution_count": null,
   "metadata": {},
   "outputs": [],
   "source": [
    "original_report = df.report.to_list()\n",
    "generated_report = df.report_from_report.to_list()\n",
    "\n",
    "# Calculate BERTScore\n",
    "P, R, F1 = score(original_report, generated_report, lang='en', verbose=True)\n",
    "\n",
    "# Print BERTScore results\n",
    "print(f\"Precision: {P.mean():.4f}\")\n",
    "print(f\"Recall: {R.mean():.4f}\")\n",
    "print(f\"F1 score: {F1.mean():.4f}\")\n"
   ]
  },
  {
   "cell_type": "markdown",
   "metadata": {},
   "source": [
    "# 4. ROUGE"
   ]
  },
  {
   "cell_type": "markdown",
   "metadata": {},
   "source": [
    "Using code from https://github.com/google-research/google-research/tree/master/rouge"
   ]
  },
  {
   "cell_type": "code",
   "execution_count": 46,
   "metadata": {},
   "outputs": [
    {
     "name": "stdout",
     "output_type": "stream",
     "text": [
      "Average ROUGE-1 Precision: 0.5777\n",
      "Average ROUGE-1 Recall: 0.4667\n",
      "Average ROUGE-1 F1 Score: 0.4950\n",
      "Average ROUGE-L Precision: 0.4268\n",
      "Average ROUGE-L Recall: 0.3407\n",
      "Average ROUGE-L F1 Score: 0.3633\n"
     ]
    }
   ],
   "source": [
    "# Assuming you have lists of reference summaries and generated summaries\n",
    "original_report = df.report.to_list()\n",
    "generated_report = df.report_from_report.to_list()\n",
    "\n",
    "# original_report = processed_df.report.to_list()\n",
    "# generated_report = processed_df.report_from_report.to_list()\n",
    "\n",
    "# Create a RougeScorer object\n",
    "scorer = rouge_scorer.RougeScorer(['rouge1', 'rougeL'], use_stemmer=True)\n",
    "\n",
    "# Initialize lists to store ROUGE scores\n",
    "rouge1_precisions, rouge1_recalls, rouge1_f1s = [], [], []\n",
    "rougeL_precisions, rougeL_recalls, rougeL_f1s = [], [], []\n",
    "\n",
    "# Calculate ROUGE scores for each pair of summaries\n",
    "for reference, generated in zip(original_report, generated_report):\n",
    "    scores = scorer.score(reference, generated)\n",
    "    rouge1_scores = scores['rouge1']\n",
    "    rougeL_scores = scores['rougeL']\n",
    "\n",
    "    # Store ROUGE scores for each pair\n",
    "    rouge1_precisions.append(rouge1_scores.precision)\n",
    "    rouge1_recalls.append(rouge1_scores.recall)\n",
    "    rouge1_f1s.append(rouge1_scores.fmeasure)\n",
    "\n",
    "    rougeL_precisions.append(rougeL_scores.precision)\n",
    "    rougeL_recalls.append(rougeL_scores.recall)\n",
    "    rougeL_f1s.append(rougeL_scores.fmeasure)\n",
    "\n",
    "# Calculate average scores\n",
    "def calculate_average(scores):\n",
    "    return sum(scores) / len(scores)\n",
    "\n",
    "avg_rouge1_precision = calculate_average(rouge1_precisions)\n",
    "avg_rouge1_recall = calculate_average(rouge1_recalls)\n",
    "avg_rouge1_f1 = calculate_average(rouge1_f1s)\n",
    "\n",
    "avg_rougeL_precision = calculate_average(rougeL_precisions)\n",
    "avg_rougeL_recall = calculate_average(rougeL_recalls)\n",
    "avg_rougeL_f1 = calculate_average(rougeL_f1s)\n",
    "\n",
    "# Print average ROUGE scores\n",
    "print(f\"Average ROUGE-1 Precision: {avg_rouge1_precision:.4f}\")\n",
    "print(f\"Average ROUGE-1 Recall: {avg_rouge1_recall:.4f}\")\n",
    "print(f\"Average ROUGE-1 F1 Score: {avg_rouge1_f1:.4f}\")\n",
    "\n",
    "print(f\"Average ROUGE-L Precision: {avg_rougeL_precision:.4f}\")\n",
    "print(f\"Average ROUGE-L Recall: {avg_rougeL_recall:.4f}\")\n",
    "print(f\"Average ROUGE-L F1 Score: {avg_rougeL_f1:.4f}\")\n"
   ]
  },
  {
   "cell_type": "markdown",
   "metadata": {},
   "source": [
    "# 5. Baseline"
   ]
  },
  {
   "cell_type": "markdown",
   "metadata": {},
   "source": [
    "using BART large\n"
   ]
  },
  {
   "cell_type": "code",
   "execution_count": 51,
   "metadata": {},
   "outputs": [
    {
     "data": {
      "text/html": [
       "<div>\n",
       "<style scoped>\n",
       "    .dataframe tbody tr th:only-of-type {\n",
       "        vertical-align: middle;\n",
       "    }\n",
       "\n",
       "    .dataframe tbody tr th {\n",
       "        vertical-align: top;\n",
       "    }\n",
       "\n",
       "    .dataframe thead th {\n",
       "        text-align: right;\n",
       "    }\n",
       "</style>\n",
       "<table border=\"1\" class=\"dataframe\">\n",
       "  <thead>\n",
       "    <tr style=\"text-align: right;\">\n",
       "      <th></th>\n",
       "      <th>resume</th>\n",
       "      <th>job</th>\n",
       "      <th>score</th>\n",
       "      <th>report</th>\n",
       "      <th>prompt</th>\n",
       "      <th>res_and_job</th>\n",
       "      <th>score_and_report</th>\n",
       "      <th>generated_report</th>\n",
       "      <th>score_from_report</th>\n",
       "      <th>report_from_report</th>\n",
       "    </tr>\n",
       "  </thead>\n",
       "  <tbody>\n",
       "    <tr>\n",
       "      <th>145</th>\n",
       "      <td>kavya baltha data scientist linkedin i summary...</td>\n",
       "      <td>about you you love breaking down complex probl...</td>\n",
       "      <td>0.85</td>\n",
       "      <td>The candidate has a Master's in Computer Scien...</td>\n",
       "      <td>&lt;&lt;RESUME&gt;&gt; kavya baltha data scientist linkedi...</td>\n",
       "      <td>&lt;&lt;RESUME&gt;&gt; kavya baltha data scientist linkedi...</td>\n",
       "      <td>&lt;&lt;SCORE&gt;&gt; 0.85, &lt;&lt;REPORT&gt;&gt; The candidate has a...</td>\n",
       "      <td>&lt;&lt;RESUME&gt;&gt; kavya baltha data scientist linkedi...</td>\n",
       "      <td>None</td>\n",
       "      <td>None</td>\n",
       "    </tr>\n",
       "    <tr>\n",
       "      <th>1628</th>\n",
       "      <td>john yoo software engineer 10 2022 02 2023 xac...</td>\n",
       "      <td>what you ll do understand design iterate and s...</td>\n",
       "      <td>0.7</td>\n",
       "      <td>The candidate has a strong background in softw...</td>\n",
       "      <td>&lt;&lt;RESUME&gt;&gt; john yoo software engineer 10 2022 ...</td>\n",
       "      <td>&lt;&lt;RESUME&gt;&gt; john yoo software engineer 10 2022 ...</td>\n",
       "      <td>&lt;&lt;SCORE&gt;&gt; 0.7, &lt;&lt;REPORT&gt;&gt; The candidate has a ...</td>\n",
       "      <td>&lt;&lt;RESUME&gt;&gt; john yoo software engineer 10 2022 ...</td>\n",
       "      <td>None</td>\n",
       "      <td>None</td>\n",
       "    </tr>\n",
       "    <tr>\n",
       "      <th>1641</th>\n",
       "      <td>sairam tabibu seattle wa email me on indeed wi...</td>\n",
       "      <td>you have 8 years of experience designing modif...</td>\n",
       "      <td>0.8</td>\n",
       "      <td>The candidate has a strong background in softw...</td>\n",
       "      <td>&lt;&lt;RESUME&gt;&gt; sairam tabibu seattle wa email me o...</td>\n",
       "      <td>&lt;&lt;RESUME&gt;&gt; sairam tabibu seattle wa email me o...</td>\n",
       "      <td>&lt;&lt;SCORE&gt;&gt; 0.8, &lt;&lt;REPORT&gt;&gt; The candidate has a ...</td>\n",
       "      <td>&lt;&lt;RESUME&gt;&gt; sairam tabibu seattle wa email me o...</td>\n",
       "      <td>None</td>\n",
       "      <td>None</td>\n",
       "    </tr>\n",
       "    <tr>\n",
       "      <th>1802</th>\n",
       "      <td>144 lewis street valley stream ny 11 marie gre...</td>\n",
       "      <td>who you ll work with as an engineer you will w...</td>\n",
       "      <td>0.7</td>\n",
       "      <td>The resume is a good match for the job. The ca...</td>\n",
       "      <td>&lt;&lt;RESUME&gt;&gt; 144 lewis street valley stream ny 1...</td>\n",
       "      <td>&lt;&lt;RESUME&gt;&gt; 144 lewis street valley stream ny 1...</td>\n",
       "      <td>&lt;&lt;SCORE&gt;&gt; 0.7, &lt;&lt;REPORT&gt;&gt; The resume is a good...</td>\n",
       "      <td>&lt;&lt;RESUME&gt;&gt; who you ll work with as an engineer...</td>\n",
       "      <td>None</td>\n",
       "      <td>None</td>\n",
       "    </tr>\n",
       "    <tr>\n",
       "      <th>1819</th>\n",
       "      <td>hardhika venkatesan data scientist lewis cente...</td>\n",
       "      <td>job title sr software quality engineer android...</td>\n",
       "      <td>0.7</td>\n",
       "      <td>The candidate has a strong background in data ...</td>\n",
       "      <td>&lt;&lt;RESUME&gt;&gt; hardhika venkatesan data scientist ...</td>\n",
       "      <td>&lt;&lt;RESUME&gt;&gt; hardhika venkatesan data scientist ...</td>\n",
       "      <td>&lt;&lt;SCORE&gt;&gt; 0.7, &lt;&lt;REPORT&gt;&gt; The candidate has a ...</td>\n",
       "      <td>&lt;&lt;RESUME&gt;&gt; hardhika venkatesan data scientist ...</td>\n",
       "      <td>None</td>\n",
       "      <td>None</td>\n",
       "    </tr>\n",
       "    <tr>\n",
       "      <th>...</th>\n",
       "      <td>...</td>\n",
       "      <td>...</td>\n",
       "      <td>...</td>\n",
       "      <td>...</td>\n",
       "      <td>...</td>\n",
       "      <td>...</td>\n",
       "      <td>...</td>\n",
       "      <td>...</td>\n",
       "      <td>...</td>\n",
       "      <td>...</td>\n",
       "    </tr>\n",
       "    <tr>\n",
       "      <th>655</th>\n",
       "      <td>tibebu ayalew silver spring md email me on ind...</td>\n",
       "      <td>primary responsibilities in the role of gis pr...</td>\n",
       "      <td>0.7</td>\n",
       "      <td>The candidate has a PhD in Physics and 10 year...</td>\n",
       "      <td>&lt;&lt;RESUME&gt;&gt; tibebu ayalew silver spring md emai...</td>\n",
       "      <td>&lt;&lt;RESUME&gt;&gt; tibebu ayalew silver spring md emai...</td>\n",
       "      <td>&lt;&lt;SCORE&gt;&gt; 0.7, &lt;&lt;REPORT&gt;&gt; The candidate has a ...</td>\n",
       "      <td>&lt;&lt;RESUME&gt;&gt; tibebu ayalew silver spring md emai...</td>\n",
       "      <td>None</td>\n",
       "      <td>None</td>\n",
       "    </tr>\n",
       "    <tr>\n",
       "      <th>1725</th>\n",
       "      <td>ying liang data scientist analyst with 7 years...</td>\n",
       "      <td>about you you are a polyglot hacker in the ai ...</td>\n",
       "      <td>0.7</td>\n",
       "      <td>The candidate has a strong background in data ...</td>\n",
       "      <td>&lt;&lt;RESUME&gt;&gt; ying liang data scientist analyst w...</td>\n",
       "      <td>&lt;&lt;RESUME&gt;&gt; ying liang data scientist analyst w...</td>\n",
       "      <td>&lt;&lt;SCORE&gt;&gt; 0.7, &lt;&lt;REPORT&gt;&gt; The candidate has a ...</td>\n",
       "      <td>&lt;&lt;RESUME&gt;&gt; ying liang data scientist analyst w...</td>\n",
       "      <td>None</td>\n",
       "      <td>None</td>\n",
       "    </tr>\n",
       "    <tr>\n",
       "      <th>2770</th>\n",
       "      <td>sai charan software engineer employment histor...</td>\n",
       "      <td>role summary design and deliver software solut...</td>\n",
       "      <td>0.7</td>\n",
       "      <td>The resume is a good match for the job. The ca...</td>\n",
       "      <td>&lt;&lt;RESUME&gt;&gt; sai charan software engineer employ...</td>\n",
       "      <td>&lt;&lt;RESUME&gt;&gt; sai charan software engineer employ...</td>\n",
       "      <td>&lt;&lt;SCORE&gt;&gt; 0.7, &lt;&lt;REPORT&gt;&gt; The resume is a good...</td>\n",
       "      <td>&lt;&lt;RESUME&gt;&gt; sai charan software engineer employ...</td>\n",
       "      <td>None</td>\n",
       "      <td>None</td>\n",
       "    </tr>\n",
       "    <tr>\n",
       "      <th>418</th>\n",
       "      <td>colin grosh washington dc email me on indeed a...</td>\n",
       "      <td>responsibilities hands on keyboard development...</td>\n",
       "      <td>0.7</td>\n",
       "      <td>The candidate has a strong background in data ...</td>\n",
       "      <td>&lt;&lt;RESUME&gt;&gt; colin grosh washington dc email me ...</td>\n",
       "      <td>&lt;&lt;RESUME&gt;&gt; colin grosh washington dc email me ...</td>\n",
       "      <td>&lt;&lt;SCORE&gt;&gt; 0.7, &lt;&lt;REPORT&gt;&gt; The candidate has a ...</td>\n",
       "      <td>&lt;&lt;RESUME&gt;&gt; colin grosh washington dc email me ...</td>\n",
       "      <td>None</td>\n",
       "      <td>None</td>\n",
       "    </tr>\n",
       "    <tr>\n",
       "      <th>1708</th>\n",
       "      <td>kenny keating san jose ca email me on indeed i...</td>\n",
       "      <td>you re excited about this opportunity because ...</td>\n",
       "      <td>0.75</td>\n",
       "      <td>The candidate has a Bachelor of Science in Com...</td>\n",
       "      <td>&lt;&lt;RESUME&gt;&gt; kenny keating san jose ca email me ...</td>\n",
       "      <td>&lt;&lt;RESUME&gt;&gt; kenny keating san jose ca email me ...</td>\n",
       "      <td>&lt;&lt;SCORE&gt;&gt; 0.75, &lt;&lt;REPORT&gt;&gt; The candidate has a...</td>\n",
       "      <td>&lt;&lt;RESUME&gt;&gt; kenny keating san jose ca email me ...</td>\n",
       "      <td>None</td>\n",
       "      <td>None</td>\n",
       "    </tr>\n",
       "  </tbody>\n",
       "</table>\n",
       "<p>100 rows × 10 columns</p>\n",
       "</div>"
      ],
      "text/plain": [
       "                                                 resume  \\\n",
       "145   kavya baltha data scientist linkedin i summary...   \n",
       "1628  john yoo software engineer 10 2022 02 2023 xac...   \n",
       "1641  sairam tabibu seattle wa email me on indeed wi...   \n",
       "1802  144 lewis street valley stream ny 11 marie gre...   \n",
       "1819  hardhika venkatesan data scientist lewis cente...   \n",
       "...                                                 ...   \n",
       "655   tibebu ayalew silver spring md email me on ind...   \n",
       "1725  ying liang data scientist analyst with 7 years...   \n",
       "2770  sai charan software engineer employment histor...   \n",
       "418   colin grosh washington dc email me on indeed a...   \n",
       "1708  kenny keating san jose ca email me on indeed i...   \n",
       "\n",
       "                                                    job score  \\\n",
       "145   about you you love breaking down complex probl...  0.85   \n",
       "1628  what you ll do understand design iterate and s...   0.7   \n",
       "1641  you have 8 years of experience designing modif...   0.8   \n",
       "1802  who you ll work with as an engineer you will w...   0.7   \n",
       "1819  job title sr software quality engineer android...   0.7   \n",
       "...                                                 ...   ...   \n",
       "655   primary responsibilities in the role of gis pr...   0.7   \n",
       "1725  about you you are a polyglot hacker in the ai ...   0.7   \n",
       "2770  role summary design and deliver software solut...   0.7   \n",
       "418   responsibilities hands on keyboard development...   0.7   \n",
       "1708  you re excited about this opportunity because ...  0.75   \n",
       "\n",
       "                                                 report  \\\n",
       "145   The candidate has a Master's in Computer Scien...   \n",
       "1628  The candidate has a strong background in softw...   \n",
       "1641  The candidate has a strong background in softw...   \n",
       "1802  The resume is a good match for the job. The ca...   \n",
       "1819  The candidate has a strong background in data ...   \n",
       "...                                                 ...   \n",
       "655   The candidate has a PhD in Physics and 10 year...   \n",
       "1725  The candidate has a strong background in data ...   \n",
       "2770  The resume is a good match for the job. The ca...   \n",
       "418   The candidate has a strong background in data ...   \n",
       "1708  The candidate has a Bachelor of Science in Com...   \n",
       "\n",
       "                                                 prompt  \\\n",
       "145   <<RESUME>> kavya baltha data scientist linkedi...   \n",
       "1628  <<RESUME>> john yoo software engineer 10 2022 ...   \n",
       "1641  <<RESUME>> sairam tabibu seattle wa email me o...   \n",
       "1802  <<RESUME>> 144 lewis street valley stream ny 1...   \n",
       "1819  <<RESUME>> hardhika venkatesan data scientist ...   \n",
       "...                                                 ...   \n",
       "655   <<RESUME>> tibebu ayalew silver spring md emai...   \n",
       "1725  <<RESUME>> ying liang data scientist analyst w...   \n",
       "2770  <<RESUME>> sai charan software engineer employ...   \n",
       "418   <<RESUME>> colin grosh washington dc email me ...   \n",
       "1708  <<RESUME>> kenny keating san jose ca email me ...   \n",
       "\n",
       "                                            res_and_job  \\\n",
       "145   <<RESUME>> kavya baltha data scientist linkedi...   \n",
       "1628  <<RESUME>> john yoo software engineer 10 2022 ...   \n",
       "1641  <<RESUME>> sairam tabibu seattle wa email me o...   \n",
       "1802  <<RESUME>> 144 lewis street valley stream ny 1...   \n",
       "1819  <<RESUME>> hardhika venkatesan data scientist ...   \n",
       "...                                                 ...   \n",
       "655   <<RESUME>> tibebu ayalew silver spring md emai...   \n",
       "1725  <<RESUME>> ying liang data scientist analyst w...   \n",
       "2770  <<RESUME>> sai charan software engineer employ...   \n",
       "418   <<RESUME>> colin grosh washington dc email me ...   \n",
       "1708  <<RESUME>> kenny keating san jose ca email me ...   \n",
       "\n",
       "                                       score_and_report  \\\n",
       "145   <<SCORE>> 0.85, <<REPORT>> The candidate has a...   \n",
       "1628  <<SCORE>> 0.7, <<REPORT>> The candidate has a ...   \n",
       "1641  <<SCORE>> 0.8, <<REPORT>> The candidate has a ...   \n",
       "1802  <<SCORE>> 0.7, <<REPORT>> The resume is a good...   \n",
       "1819  <<SCORE>> 0.7, <<REPORT>> The candidate has a ...   \n",
       "...                                                 ...   \n",
       "655   <<SCORE>> 0.7, <<REPORT>> The candidate has a ...   \n",
       "1725  <<SCORE>> 0.7, <<REPORT>> The candidate has a ...   \n",
       "2770  <<SCORE>> 0.7, <<REPORT>> The resume is a good...   \n",
       "418   <<SCORE>> 0.7, <<REPORT>> The candidate has a ...   \n",
       "1708  <<SCORE>> 0.75, <<REPORT>> The candidate has a...   \n",
       "\n",
       "                                       generated_report score_from_report  \\\n",
       "145   <<RESUME>> kavya baltha data scientist linkedi...              None   \n",
       "1628  <<RESUME>> john yoo software engineer 10 2022 ...              None   \n",
       "1641  <<RESUME>> sairam tabibu seattle wa email me o...              None   \n",
       "1802  <<RESUME>> who you ll work with as an engineer...              None   \n",
       "1819  <<RESUME>> hardhika venkatesan data scientist ...              None   \n",
       "...                                                 ...               ...   \n",
       "655   <<RESUME>> tibebu ayalew silver spring md emai...              None   \n",
       "1725  <<RESUME>> ying liang data scientist analyst w...              None   \n",
       "2770  <<RESUME>> sai charan software engineer employ...              None   \n",
       "418   <<RESUME>> colin grosh washington dc email me ...              None   \n",
       "1708  <<RESUME>> kenny keating san jose ca email me ...              None   \n",
       "\n",
       "     report_from_report  \n",
       "145                None  \n",
       "1628               None  \n",
       "1641               None  \n",
       "1802               None  \n",
       "1819               None  \n",
       "...                 ...  \n",
       "655                None  \n",
       "1725               None  \n",
       "2770               None  \n",
       "418                None  \n",
       "1708               None  \n",
       "\n",
       "[100 rows x 10 columns]"
      ]
     },
     "execution_count": 51,
     "metadata": {},
     "output_type": "execute_result"
    }
   ],
   "source": [
    "df_baseline = pd.read_pickle(\"combined_df_test_and_results_baseline.pkl\")\n",
    "# df_baseline = df_baseline.rename(columns={\"report_from_report\": \"baseline_report\"})\n",
    "\n",
    "df_baseline"
   ]
  },
  {
   "cell_type": "code",
   "execution_count": 52,
   "metadata": {},
   "outputs": [
    {
     "data": {
      "text/plain": [
       "'<<RESUME>> kavya baltha data scientist linkedin i summary summary acadamic projects netflix data analysis tableau public data analysis utilized tableau to explore and analyze netflix show data and derived meaningful insights into viewership patterns genre preferences and user behavior visualizations designed interactive and visually appealing dashboards and charts to present meaningful insights drug activity prediction python smote pca adaboost treated the imbalanced data using smote and applied pca for dimensionality reduction to compress the data developed an ensemble classification model using adaboast to prognosticate the likelihood of the drug given its topological shapes and other characteristics and achieved an accuracy of 79 by tuning the hyperparameters using across validation technique digit recognizer tsne k means handled mnist dataset which has gray scale images of hand drawn digits by normalizing the data and used tsne technique to reduce the number of dimensions implemented k means technique using euclidean distance metric to cluster the similar instances and to tune the hyper parameter k value used silhouette score evaluation metric skills methodologies sdlc agile waterfall language python r sql sas ides visual studio code pycharm ml algorithm linear regression logistic regression decision trees supervised learning unsupervised learning classification svm random forests naive bayes kn'"
      ]
     },
     "execution_count": 52,
     "metadata": {},
     "output_type": "execute_result"
    }
   ],
   "source": [
    "df_baseline.iloc[0].generated_report\n"
   ]
  },
  {
   "cell_type": "code",
   "execution_count": 54,
   "metadata": {},
   "outputs": [
    {
     "data": {
      "text/plain": [
       "\"The candidate has a strong background in data science and machine learning, with a Master's degree in Computer Science from George Mason University and a Bachelor's degree from Jawaharlal Nehru Institute of Technology. They have 3 years of experience as a Data Scientist at Amazon, where they used Python, R, SQL, and SAS to perform data analysis and extract valuable insights from large datasets. They also developed an ensemble classification model using Adaboost to prognosticate the likelihood of a drug given its topological shapes and other characteristics. The candidate's skills and experience are a good match for the job requirements, and they would likely be able to make a significant contribution to the team.\""
      ]
     },
     "execution_count": 54,
     "metadata": {},
     "output_type": "execute_result"
    }
   ],
   "source": [
    "df.iloc[0].report_from_report"
   ]
  },
  {
   "cell_type": "code",
   "execution_count": null,
   "metadata": {},
   "outputs": [],
   "source": []
  },
  {
   "cell_type": "markdown",
   "metadata": {},
   "source": [
    "XXX XXX data scientist linkedin i summary summary acadamic projects netflix data analysis tableau public data analysis utilized tableau to explore and analyze netflix show data and derived meaningful insights into viewership patterns genre preferences and user behavior visualizations designed interactive and visually appealing dashboards and charts to present meaningful insights drug activity prediction python smote pca adaboost treated the imbalanced data using smote and applied pca for dimensionality reduction to compress the data developed an ensemble classification model using adaboast to prognosticate the likelihood of the drug given its topological shapes and other characteristics and achieved an accuracy of 79 by tuning the hyperparameters using across validation technique digit recognizer tsne k means handled mnist dataset which has gray scale images of hand drawn digits by normalizing the data and used tsne technique to reduce the number of dimensions implemented k means technique using euclidean distance metric to cluster the similar instances and to tune the hyper parameter k value used silhouette score evaluation metric skills methodologies sdlc agile waterfall language python r sql sas ides visual studio code pycharm ml algorithm linear regression logistic regression decision trees supervised learning unsupervised learning classification svm random forests naive bayes kn'\n"
   ]
  }
 ],
 "metadata": {
  "kernelspec": {
   "display_name": "venv",
   "language": "python",
   "name": "python3"
  },
  "language_info": {
   "codemirror_mode": {
    "name": "ipython",
    "version": 3
   },
   "file_extension": ".py",
   "mimetype": "text/x-python",
   "name": "python",
   "nbconvert_exporter": "python",
   "pygments_lexer": "ipython3",
   "version": "3.11.5"
  }
 },
 "nbformat": 4,
 "nbformat_minor": 2
}
