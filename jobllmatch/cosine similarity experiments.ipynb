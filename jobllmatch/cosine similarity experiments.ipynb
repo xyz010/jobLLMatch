{
 "cells": [
  {
   "cell_type": "markdown",
   "id": "724872ff",
   "metadata": {},
   "source": [
    "# Experiment 1\n",
    "Use a simple sentence transformer to compute the semantic textual similarity as measured by the cosine similarity. The average cosine similarity will be used.\n",
    "Steps:\n",
    "- get corpus of junior resumes\n",
    "- calculate embeddings\n",
    "- calculate embeddings of the senior swe job description\n",
    "- calculate cosine similarity of every resume and the job description\n"
   ]
  },
  {
   "cell_type": "code",
   "execution_count": 1,
   "id": "d94bad66",
   "metadata": {},
   "outputs": [],
   "source": [
    "import os\n",
    "import logging\n",
    "from transformers import AutoTokenizer, AutoModel\n",
    "import torch\n",
    "import re\n",
    "\n",
    "# Load the SBERT model and tokenizer\n",
    "model_name = 'sentence-transformers/paraphrase-MiniLM-L6-v2'\n",
    "tokenizer = AutoTokenizer.from_pretrained(model_name)\n",
    "model = AutoModel.from_pretrained(model_name)"
   ]
  },
  {
   "cell_type": "code",
   "execution_count": 87,
   "id": "02c260de",
   "metadata": {},
   "outputs": [],
   "source": [
    "# step get junior resume corpus\n",
    "junior_resume_dir = \"/Users/andreasloutzidis/Downloads/indeed_data/SWE_junior_le_2years_txt/\"\n",
    "jd_swe_senior_dir = \"/Users/andreasloutzidis/Downloads/indeed_data/jd_SWE_senior/\"\n",
    "\n",
    "with open(jd_swe_senior_dir + \"jd_1.txt\", \"r\") as file:\n",
    "    jd_swe_senior = file.read()\n",
    "job_description = jd_swe_senior\n",
    "job_description = job_description.replace(\"\\n\", \"\")"
   ]
  },
  {
   "cell_type": "code",
   "execution_count": 88,
   "id": "7b0cac0c",
   "metadata": {
    "scrolled": true
   },
   "outputs": [],
   "source": [
    "# create embeddigns for the job description\n",
    "jd_length = len(job_description)\n",
    "window_size = 2800\n",
    "if jd_length > window_size:\n",
    "    jd_chunks = []\n",
    "    jd_chunks.append(job_description[:int(jd_length/2)])\n",
    "    jd_chunks.append(job_description[int(jd_length/2):])\n",
    "else:\n",
    "    jd_chunks.append(job_description)\n",
    "embeddings_jd = []\n",
    "for chunk in jd_chunks:\n",
    "    encoded_chunk = tokenizer(chunk, return_tensors='pt')\n",
    "    embeddings_jd.append(model(**encoded_chunk).last_hidden_state.mean(dim=1))"
   ]
  },
  {
   "cell_type": "code",
   "execution_count": 89,
   "id": "2b59c4ac",
   "metadata": {},
   "outputs": [],
   "source": [
    "# create embeddings from the resumes\n",
    "embeddings_res = []\n",
    "window_size = 2000\n",
    "for filename in os.listdir(junior_resume_dir):\n",
    "    if filename.endswith(\".txt\"):\n",
    "        input_file_path = os.path.join(junior_resume_dir, filename)\n",
    "        with open(input_file_path, \"r\", encoding=\"utf-8\") as file:\n",
    "            file_contents = file.read()\n",
    "            res_chunks = []\n",
    "            if len(file_contents) > window_size:\n",
    "                res_length = len(file_contents)\n",
    "                res_chunks.append(file_contents[:int(res_length/2)])\n",
    "                res_chunks.append(file_contents[int(res_length/2):])\n",
    "                \n",
    "            else:\n",
    "                res_chunks.append(file_contents)\n",
    "            for chunk in res_chunks:\n",
    "                encoded_res = tokenizer(chunk, return_tensors='pt')\n",
    "                try:\n",
    "                    embeddings_res.append(model(**encoded_res).last_hidden_state.mean(dim=1))\n",
    "                except:\n",
    "                    logging.error(f\"filename: {filename}, size: {len(file_contents)}\")\n",
    "                    logging.error(f\"filename: {filename}, size: {len(chunk)}\")"
   ]
  },
  {
   "cell_type": "code",
   "execution_count": 90,
   "id": "cc678a8c",
   "metadata": {},
   "outputs": [
    {
     "name": "stdout",
     "output_type": "stream",
     "text": [
      "Average cosine similarity is: 0.5697355410084128\n"
     ]
    }
   ],
   "source": [
    "# no calculate the average cosine similarity\n",
    "similarities = []\n",
    "for i in range(len(embeddings_jd)):\n",
    "    for j in range(len(embeddings_res)):\n",
    "        cos_sim = torch.nn.functional.cosine_similarity(embeddings_jd[i], embeddings_res[j])\n",
    "        similarities.append(cos_sim.item())\n",
    "\n",
    "# take the average of the cosine similarities as the final similarity score\n",
    "final_similarity = sum(similarities) / len(similarities)\n",
    "print(f\"Average cosine similarity is: {final_similarity}\")"
   ]
  },
  {
   "cell_type": "markdown",
   "id": "15d56d2c",
   "metadata": {},
   "source": [
    "### now create a function for this"
   ]
  },
  {
   "cell_type": "code",
   "execution_count": 148,
   "id": "3e3cdbb6",
   "metadata": {},
   "outputs": [
    {
     "data": {
      "text/plain": [
       "3108"
      ]
     },
     "execution_count": 148,
     "metadata": {},
     "output_type": "execute_result"
    }
   ],
   "source": [
    "len(clean_text(job_description))"
   ]
  },
  {
   "cell_type": "code",
   "execution_count": 15,
   "id": "778c6831",
   "metadata": {},
   "outputs": [],
   "source": [
    "# create text cleaning\n",
    "def clean_text(text):\n",
    "    # Remove HTML tags\n",
    "    text = re.sub(r'<[^>]+>', '', text)\n",
    "\n",
    "    # Remove URLs\n",
    "    text = re.sub(r'http[s]?://\\S+', '', text)\n",
    "\n",
    "    # Remove special characters and symbols\n",
    "    text = re.sub(r'[^A-Za-z0-9]+', ' ', text)\n",
    "\n",
    "    # Remove extra whitespaces\n",
    "    text = ' '.join(text.split())\n",
    "\n",
    "    # Convert to lowercase\n",
    "    text = text.lower()\n",
    "\n",
    "    return text\n",
    "\n",
    "def get_cosine_similarity(resume_dir, job_description_path, res_window, jd_window):\n",
    "    with open(job_description_path, \"r\") as file:\n",
    "        job_description = file.read()\n",
    "    job_description = job_description.replace(\"\\n\", \"\")\n",
    "    # create embeddigns for the job description\n",
    "    jd_length = len(job_description)\n",
    "    jd_chunks = []\n",
    "    if jd_length > jd_window:\n",
    "        jd_chunks.append(job_description[:int(jd_length/2)])\n",
    "        jd_chunks.append(job_description[int(jd_length/2):])\n",
    "    else:\n",
    "        jd_chunks.append(job_description)\n",
    "    embeddings_jd = []\n",
    "    for chunk in jd_chunks:\n",
    "        chunk = clean_text(chunk)\n",
    "        encoded_chunk = tokenizer(chunk, return_tensors='pt')\n",
    "        embeddings_jd.append(model(**encoded_chunk).last_hidden_state.mean(dim=1))\n",
    "\n",
    "    # create embeddings from the resumes\n",
    "    embeddings_res = []\n",
    "    for filename in os.listdir(resume_dir):\n",
    "        if filename.endswith(\".txt\"):\n",
    "            input_file_path = os.path.join(resume_dir, filename)\n",
    "            with open(input_file_path, \"r\", encoding=\"utf-8\") as file:\n",
    "                file_contents = file.read()\n",
    "                res_chunks = []\n",
    "                res_length = len(file_contents)\n",
    "                if res_length > res_window:\n",
    "                    res_chunks.append(file_contents[:int(res_length/2)])\n",
    "                    res_chunks.append(file_contents[int(res_length/2):])\n",
    "\n",
    "                else:\n",
    "                    res_chunks.append(file_contents)\n",
    "                for chunk in res_chunks:\n",
    "                    chunk = clean_text(chunk)\n",
    "                    encoded_res = tokenizer(chunk, return_tensors='pt')\n",
    "                    try:\n",
    "                        embeddings_res.append(model(**encoded_res).last_hidden_state.mean(dim=1))\n",
    "                    except:\n",
    "                        logging.error(f\"filename: {filename}, size: {len(file_contents)}\")\n",
    "                        logging.error(f\"filename: {filename}, size: {len(chunk)}\")\n",
    "\n",
    "    # no calculate the average cosine similarity\n",
    "    similarities = []\n",
    "    for i in range(len(embeddings_jd)):\n",
    "        for j in range(len(embeddings_res)):\n",
    "            cos_sim = torch.nn.functional.cosine_similarity(embeddings_jd[i], embeddings_res[j])\n",
    "            similarities.append(cos_sim.item())\n",
    "\n",
    "    # take the average of the cosine similarities as the final similarity score\n",
    "    final_similarity = sum(similarities) / len(similarities)\n",
    "    print(f\"Average cosine similarity is: {final_similarity:.04f}\")\n",
    "    return"
   ]
  },
  {
   "cell_type": "code",
   "execution_count": 2,
   "id": "0b7ce349",
   "metadata": {},
   "outputs": [],
   "source": [
    "data_path = \"/Users/andreasloutzidis/Downloads/indeed_data\"\n",
    "# senior_jd = os.path.join(data_path, \"jd_SWE_senior\", \"jd_1.txt\")\n",
    "senior_jd = os.path.join(data_path, \"jd_SWE_senior\", \"senior_swe_comcast.txt\")\n",
    "junior_resume_dir = os.path.join(data_path, \"SWE_junior_le_2years_txt/\")\n",
    "mid_resume_dir = os.path.join(data_path, \"SWE_mid_ge_3years_le_5years_txt\")\n",
    "senior_resume_dir = os.path.join(data_path, \"SWE_senior_ge_6years_txt/\")\n",
    "frontend_junior_resume_dir = os.path.join(data_path, \"frontend_junior_txt\")\n",
    "frontend_mid_resume_dir = os.path.join(data_path, \"frontend_mid_txt\")\n",
    "\n",
    "input_resume_dir = frontend_mid_resume_dir\n",
    "get_cosine_similarity(\n",
    "    resume_dir=input_resume_dir,\n",
    "    job_description_path=senior_jd,\n",
    "    jd_window=2800,\n",
    "    res_window=2600\n",
    ")\n"
   ]
  },
  {
   "cell_type": "markdown",
   "id": "3329dbfc",
   "metadata": {},
   "source": [
    "# Results\n",
    "jd_1.txt\n",
    "- senior jd w junior applicants\n",
    "    - Average cosine similarity is: 0.5844338263571263\n",
    "- senior jd w mid applicants\n",
    "    - Average cosine similarity is: 0.5919555368575644\n",
    "- senior jd w senior applicants\n",
    "    - Average cosine similarity is: 0.5698464676164664\n",
    "- junior frontnend\n",
    "    - Average cosine similarity is: 0.5933\n",
    "- mid frontend\n",
    "    - Average cosine similarity is: 0.5903\n",
    "\n",
    "\n",
    "senior_swe_comcast.txt\n",
    "- senior jd w junior applicants\n",
    "    - Average cosine similarity is: 0.6502\n",
    "- senior jd w mid applicants\n",
    "    - Average cosine similarity is: 0.6611\n",
    "- senior jd w senior applicants\n",
    "    - Average cosine similarity is: 0.6742\n",
    "\n",
    "- junior frontnend\n",
    "    - Average cosine similarity is: 0.6472\n",
    "\n",
    "- mid frontend\n",
    "    - Average cosine similarity is: 0.6706\n",
    "\n",
    "\n",
    "\n",
    "\n",
    "### Takeaways:\n",
    "- cosine similarity cannot distinguish between senior and junior resumes\n"
   ]
  },
  {
   "cell_type": "markdown",
   "id": "e41a3491",
   "metadata": {},
   "source": [
    "# calculate records number and average length"
   ]
  },
  {
   "cell_type": "code",
   "execution_count": 171,
   "id": "040b431f",
   "metadata": {},
   "outputs": [],
   "source": [
    "def calc_dir_details(input_dir):\n",
    "    input_dir_complete = os.path.join(data_path, input_dir)\n",
    "    avg_length = 0\n",
    "    count = 0\n",
    "    for filename in os.listdir(input_dir_complete):\n",
    "        if filename.endswith(\".txt\"):\n",
    "            input_file_path = os.path.join(input_dir_complete, filename)\n",
    "            with open(input_file_path, \"r\", encoding=\"utf-8\") as file:\n",
    "                file_contents = file.read()\n",
    "                avg_length += len(file_contents)\n",
    "                count += 1\n",
    "    avg_length = int(avg_length / count)\n",
    "    print(f\"dir: {input_dir}, files: {count}, avg length: {avg_length}\")"
   ]
  },
  {
   "cell_type": "code",
   "execution_count": 175,
   "id": "5b6f13db",
   "metadata": {},
   "outputs": [
    {
     "name": "stdout",
     "output_type": "stream",
     "text": [
      "dir: SWE_junior_le_2years_txt, files: 38, avg length: 2012\n",
      "dir: SWE_mid_ge_3years_le_5years_txt, files: 43, avg length: 2180\n",
      "dir: SWE_senior_ge_6years_txt, files: 32, avg length: 2303\n",
      "dir: frontend_junior_txt, files: 30, avg length: 1972\n",
      "dir: frontend_mid_txt, files: 47, avg length: 2082\n"
     ]
    }
   ],
   "source": [
    "calc_dir_details(\"SWE_junior_le_2years_txt\")\n",
    "calc_dir_details(\"SWE_mid_ge_3years_le_5years_txt\")\n",
    "calc_dir_details(\"SWE_senior_ge_6years_txt\")\n",
    "calc_dir_details(\"frontend_junior_txt\")\n",
    "calc_dir_details(\"frontend_mid_txt\")"
   ]
  },
  {
   "cell_type": "markdown",
   "id": "a723a6d9",
   "metadata": {},
   "source": [
    "# Experiment 2 datascience job descriptions"
   ]
  },
  {
   "cell_type": "code",
   "execution_count": 14,
   "id": "5491e7cf",
   "metadata": {
    "scrolled": true
   },
   "outputs": [
    {
     "name": "stdout",
     "output_type": "stream",
     "text": [
      "Average cosine similarity is: 0.5557\n",
      "Average cosine similarity is: 0.5775\n",
      "Average cosine similarity is: 0.5836\n",
      "Average cosine similarity is: 0.5610\n"
     ]
    },
    {
     "ename": "RuntimeError",
     "evalue": "The size of tensor a (624) must match the size of tensor b (512) at non-singleton dimension 1",
     "output_type": "error",
     "traceback": [
      "\u001b[0;31m---------------------------------------------------------------------------\u001b[0m",
      "\u001b[0;31mRuntimeError\u001b[0m                              Traceback (most recent call last)",
      "Cell \u001b[0;32mIn[14], line 19\u001b[0m\n\u001b[1;32m     17\u001b[0m \u001b[38;5;28;01mfor\u001b[39;00m jd \u001b[38;5;129;01min\u001b[39;00m os\u001b[38;5;241m.\u001b[39mlistdir(jd_path):\n\u001b[1;32m     18\u001b[0m     \u001b[38;5;28;01mif\u001b[39;00m jd\u001b[38;5;241m.\u001b[39mendswith(\u001b[38;5;124m\"\u001b[39m\u001b[38;5;124m.txt\u001b[39m\u001b[38;5;124m\"\u001b[39m):\n\u001b[0;32m---> 19\u001b[0m         cos_sim \u001b[38;5;241m=\u001b[39m \u001b[43mget_cosine_similarity\u001b[49m\u001b[43m(\u001b[49m\n\u001b[1;32m     20\u001b[0m \u001b[43m                    \u001b[49m\u001b[43mresume_dir\u001b[49m\u001b[38;5;241;43m=\u001b[39;49m\u001b[43mjunior_resume_dir\u001b[49m\u001b[43m,\u001b[49m\n\u001b[1;32m     21\u001b[0m \u001b[43m                    \u001b[49m\u001b[43mjob_description_path\u001b[49m\u001b[38;5;241;43m=\u001b[39;49m\u001b[43mos\u001b[49m\u001b[38;5;241;43m.\u001b[39;49m\u001b[43mpath\u001b[49m\u001b[38;5;241;43m.\u001b[39;49m\u001b[43mjoin\u001b[49m\u001b[43m(\u001b[49m\u001b[43mjd_path\u001b[49m\u001b[43m,\u001b[49m\u001b[43m \u001b[49m\u001b[43mjd\u001b[49m\u001b[43m)\u001b[49m\u001b[43m,\u001b[49m\n\u001b[1;32m     22\u001b[0m \u001b[43m                    \u001b[49m\u001b[43mjd_window\u001b[49m\u001b[38;5;241;43m=\u001b[39;49m\u001b[38;5;241;43m2000\u001b[39;49m\u001b[43m,\u001b[49m\n\u001b[1;32m     23\u001b[0m \u001b[43m                    \u001b[49m\u001b[43mres_window\u001b[49m\u001b[38;5;241;43m=\u001b[39;49m\u001b[38;5;241;43m2000\u001b[39;49m\n\u001b[1;32m     24\u001b[0m \u001b[43m                    \u001b[49m\u001b[43m)\u001b[49m\n\u001b[1;32m     25\u001b[0m         avg_cosine_similarity\u001b[38;5;241m.\u001b[39mappend(cos_sim)\n\u001b[1;32m     26\u001b[0m \u001b[38;5;28mprint\u001b[39m(\u001b[38;5;124mf\u001b[39m\u001b[38;5;124m\"\u001b[39m\u001b[38;5;124mAverage cos similarity across all jd and resume: \u001b[39m\u001b[38;5;132;01m{\u001b[39;00m\u001b[38;5;28msum\u001b[39m(avg_cosine_similarity)\u001b[38;5;241m/\u001b[39m\u001b[38;5;28mlen\u001b[39m(avg_cosine_similarity)\u001b[38;5;132;01m:\u001b[39;00m\u001b[38;5;124m.02f\u001b[39m\u001b[38;5;132;01m}\u001b[39;00m\u001b[38;5;124m\"\u001b[39m)\n",
      "Cell \u001b[0;32mIn[10], line 37\u001b[0m, in \u001b[0;36mget_cosine_similarity\u001b[0;34m(resume_dir, job_description_path, res_window, jd_window)\u001b[0m\n\u001b[1;32m     35\u001b[0m     chunk \u001b[38;5;241m=\u001b[39m clean_text(chunk)\n\u001b[1;32m     36\u001b[0m     encoded_chunk \u001b[38;5;241m=\u001b[39m tokenizer(chunk, return_tensors\u001b[38;5;241m=\u001b[39m\u001b[38;5;124m'\u001b[39m\u001b[38;5;124mpt\u001b[39m\u001b[38;5;124m'\u001b[39m)\n\u001b[0;32m---> 37\u001b[0m     embeddings_jd\u001b[38;5;241m.\u001b[39mappend(\u001b[43mmodel\u001b[49m\u001b[43m(\u001b[49m\u001b[38;5;241;43m*\u001b[39;49m\u001b[38;5;241;43m*\u001b[39;49m\u001b[43mencoded_chunk\u001b[49m\u001b[43m)\u001b[49m\u001b[38;5;241m.\u001b[39mlast_hidden_state\u001b[38;5;241m.\u001b[39mmean(dim\u001b[38;5;241m=\u001b[39m\u001b[38;5;241m1\u001b[39m))\n\u001b[1;32m     39\u001b[0m \u001b[38;5;66;03m# create embeddings from the resumes\u001b[39;00m\n\u001b[1;32m     40\u001b[0m embeddings_res \u001b[38;5;241m=\u001b[39m []\n",
      "File \u001b[0;32m~/dev/jobLLMatch/venv/lib/python3.11/site-packages/torch/nn/modules/module.py:1518\u001b[0m, in \u001b[0;36mModule._wrapped_call_impl\u001b[0;34m(self, *args, **kwargs)\u001b[0m\n\u001b[1;32m   1516\u001b[0m     \u001b[38;5;28;01mreturn\u001b[39;00m \u001b[38;5;28mself\u001b[39m\u001b[38;5;241m.\u001b[39m_compiled_call_impl(\u001b[38;5;241m*\u001b[39margs, \u001b[38;5;241m*\u001b[39m\u001b[38;5;241m*\u001b[39mkwargs)  \u001b[38;5;66;03m# type: ignore[misc]\u001b[39;00m\n\u001b[1;32m   1517\u001b[0m \u001b[38;5;28;01melse\u001b[39;00m:\n\u001b[0;32m-> 1518\u001b[0m     \u001b[38;5;28;01mreturn\u001b[39;00m \u001b[38;5;28;43mself\u001b[39;49m\u001b[38;5;241;43m.\u001b[39;49m\u001b[43m_call_impl\u001b[49m\u001b[43m(\u001b[49m\u001b[38;5;241;43m*\u001b[39;49m\u001b[43margs\u001b[49m\u001b[43m,\u001b[49m\u001b[43m \u001b[49m\u001b[38;5;241;43m*\u001b[39;49m\u001b[38;5;241;43m*\u001b[39;49m\u001b[43mkwargs\u001b[49m\u001b[43m)\u001b[49m\n",
      "File \u001b[0;32m~/dev/jobLLMatch/venv/lib/python3.11/site-packages/torch/nn/modules/module.py:1527\u001b[0m, in \u001b[0;36mModule._call_impl\u001b[0;34m(self, *args, **kwargs)\u001b[0m\n\u001b[1;32m   1522\u001b[0m \u001b[38;5;66;03m# If we don't have any hooks, we want to skip the rest of the logic in\u001b[39;00m\n\u001b[1;32m   1523\u001b[0m \u001b[38;5;66;03m# this function, and just call forward.\u001b[39;00m\n\u001b[1;32m   1524\u001b[0m \u001b[38;5;28;01mif\u001b[39;00m \u001b[38;5;129;01mnot\u001b[39;00m (\u001b[38;5;28mself\u001b[39m\u001b[38;5;241m.\u001b[39m_backward_hooks \u001b[38;5;129;01mor\u001b[39;00m \u001b[38;5;28mself\u001b[39m\u001b[38;5;241m.\u001b[39m_backward_pre_hooks \u001b[38;5;129;01mor\u001b[39;00m \u001b[38;5;28mself\u001b[39m\u001b[38;5;241m.\u001b[39m_forward_hooks \u001b[38;5;129;01mor\u001b[39;00m \u001b[38;5;28mself\u001b[39m\u001b[38;5;241m.\u001b[39m_forward_pre_hooks\n\u001b[1;32m   1525\u001b[0m         \u001b[38;5;129;01mor\u001b[39;00m _global_backward_pre_hooks \u001b[38;5;129;01mor\u001b[39;00m _global_backward_hooks\n\u001b[1;32m   1526\u001b[0m         \u001b[38;5;129;01mor\u001b[39;00m _global_forward_hooks \u001b[38;5;129;01mor\u001b[39;00m _global_forward_pre_hooks):\n\u001b[0;32m-> 1527\u001b[0m     \u001b[38;5;28;01mreturn\u001b[39;00m \u001b[43mforward_call\u001b[49m\u001b[43m(\u001b[49m\u001b[38;5;241;43m*\u001b[39;49m\u001b[43margs\u001b[49m\u001b[43m,\u001b[49m\u001b[43m \u001b[49m\u001b[38;5;241;43m*\u001b[39;49m\u001b[38;5;241;43m*\u001b[39;49m\u001b[43mkwargs\u001b[49m\u001b[43m)\u001b[49m\n\u001b[1;32m   1529\u001b[0m \u001b[38;5;28;01mtry\u001b[39;00m:\n\u001b[1;32m   1530\u001b[0m     result \u001b[38;5;241m=\u001b[39m \u001b[38;5;28;01mNone\u001b[39;00m\n",
      "File \u001b[0;32m~/dev/jobLLMatch/venv/lib/python3.11/site-packages/transformers/models/bert/modeling_bert.py:1006\u001b[0m, in \u001b[0;36mBertModel.forward\u001b[0;34m(self, input_ids, attention_mask, token_type_ids, position_ids, head_mask, inputs_embeds, encoder_hidden_states, encoder_attention_mask, past_key_values, use_cache, output_attentions, output_hidden_states, return_dict)\u001b[0m\n\u001b[1;32m    999\u001b[0m \u001b[38;5;66;03m# Prepare head mask if needed\u001b[39;00m\n\u001b[1;32m   1000\u001b[0m \u001b[38;5;66;03m# 1.0 in head_mask indicate we keep the head\u001b[39;00m\n\u001b[1;32m   1001\u001b[0m \u001b[38;5;66;03m# attention_probs has shape bsz x n_heads x N x N\u001b[39;00m\n\u001b[1;32m   1002\u001b[0m \u001b[38;5;66;03m# input head_mask has shape [num_heads] or [num_hidden_layers x num_heads]\u001b[39;00m\n\u001b[1;32m   1003\u001b[0m \u001b[38;5;66;03m# and head_mask is converted to shape [num_hidden_layers x batch x num_heads x seq_length x seq_length]\u001b[39;00m\n\u001b[1;32m   1004\u001b[0m head_mask \u001b[38;5;241m=\u001b[39m \u001b[38;5;28mself\u001b[39m\u001b[38;5;241m.\u001b[39mget_head_mask(head_mask, \u001b[38;5;28mself\u001b[39m\u001b[38;5;241m.\u001b[39mconfig\u001b[38;5;241m.\u001b[39mnum_hidden_layers)\n\u001b[0;32m-> 1006\u001b[0m embedding_output \u001b[38;5;241m=\u001b[39m \u001b[38;5;28;43mself\u001b[39;49m\u001b[38;5;241;43m.\u001b[39;49m\u001b[43membeddings\u001b[49m\u001b[43m(\u001b[49m\n\u001b[1;32m   1007\u001b[0m \u001b[43m    \u001b[49m\u001b[43minput_ids\u001b[49m\u001b[38;5;241;43m=\u001b[39;49m\u001b[43minput_ids\u001b[49m\u001b[43m,\u001b[49m\n\u001b[1;32m   1008\u001b[0m \u001b[43m    \u001b[49m\u001b[43mposition_ids\u001b[49m\u001b[38;5;241;43m=\u001b[39;49m\u001b[43mposition_ids\u001b[49m\u001b[43m,\u001b[49m\n\u001b[1;32m   1009\u001b[0m \u001b[43m    \u001b[49m\u001b[43mtoken_type_ids\u001b[49m\u001b[38;5;241;43m=\u001b[39;49m\u001b[43mtoken_type_ids\u001b[49m\u001b[43m,\u001b[49m\n\u001b[1;32m   1010\u001b[0m \u001b[43m    \u001b[49m\u001b[43minputs_embeds\u001b[49m\u001b[38;5;241;43m=\u001b[39;49m\u001b[43minputs_embeds\u001b[49m\u001b[43m,\u001b[49m\n\u001b[1;32m   1011\u001b[0m \u001b[43m    \u001b[49m\u001b[43mpast_key_values_length\u001b[49m\u001b[38;5;241;43m=\u001b[39;49m\u001b[43mpast_key_values_length\u001b[49m\u001b[43m,\u001b[49m\n\u001b[1;32m   1012\u001b[0m \u001b[43m\u001b[49m\u001b[43m)\u001b[49m\n\u001b[1;32m   1013\u001b[0m encoder_outputs \u001b[38;5;241m=\u001b[39m \u001b[38;5;28mself\u001b[39m\u001b[38;5;241m.\u001b[39mencoder(\n\u001b[1;32m   1014\u001b[0m     embedding_output,\n\u001b[1;32m   1015\u001b[0m     attention_mask\u001b[38;5;241m=\u001b[39mextended_attention_mask,\n\u001b[0;32m   (...)\u001b[0m\n\u001b[1;32m   1023\u001b[0m     return_dict\u001b[38;5;241m=\u001b[39mreturn_dict,\n\u001b[1;32m   1024\u001b[0m )\n\u001b[1;32m   1025\u001b[0m sequence_output \u001b[38;5;241m=\u001b[39m encoder_outputs[\u001b[38;5;241m0\u001b[39m]\n",
      "File \u001b[0;32m~/dev/jobLLMatch/venv/lib/python3.11/site-packages/torch/nn/modules/module.py:1518\u001b[0m, in \u001b[0;36mModule._wrapped_call_impl\u001b[0;34m(self, *args, **kwargs)\u001b[0m\n\u001b[1;32m   1516\u001b[0m     \u001b[38;5;28;01mreturn\u001b[39;00m \u001b[38;5;28mself\u001b[39m\u001b[38;5;241m.\u001b[39m_compiled_call_impl(\u001b[38;5;241m*\u001b[39margs, \u001b[38;5;241m*\u001b[39m\u001b[38;5;241m*\u001b[39mkwargs)  \u001b[38;5;66;03m# type: ignore[misc]\u001b[39;00m\n\u001b[1;32m   1517\u001b[0m \u001b[38;5;28;01melse\u001b[39;00m:\n\u001b[0;32m-> 1518\u001b[0m     \u001b[38;5;28;01mreturn\u001b[39;00m \u001b[38;5;28;43mself\u001b[39;49m\u001b[38;5;241;43m.\u001b[39;49m\u001b[43m_call_impl\u001b[49m\u001b[43m(\u001b[49m\u001b[38;5;241;43m*\u001b[39;49m\u001b[43margs\u001b[49m\u001b[43m,\u001b[49m\u001b[43m \u001b[49m\u001b[38;5;241;43m*\u001b[39;49m\u001b[38;5;241;43m*\u001b[39;49m\u001b[43mkwargs\u001b[49m\u001b[43m)\u001b[49m\n",
      "File \u001b[0;32m~/dev/jobLLMatch/venv/lib/python3.11/site-packages/torch/nn/modules/module.py:1527\u001b[0m, in \u001b[0;36mModule._call_impl\u001b[0;34m(self, *args, **kwargs)\u001b[0m\n\u001b[1;32m   1522\u001b[0m \u001b[38;5;66;03m# If we don't have any hooks, we want to skip the rest of the logic in\u001b[39;00m\n\u001b[1;32m   1523\u001b[0m \u001b[38;5;66;03m# this function, and just call forward.\u001b[39;00m\n\u001b[1;32m   1524\u001b[0m \u001b[38;5;28;01mif\u001b[39;00m \u001b[38;5;129;01mnot\u001b[39;00m (\u001b[38;5;28mself\u001b[39m\u001b[38;5;241m.\u001b[39m_backward_hooks \u001b[38;5;129;01mor\u001b[39;00m \u001b[38;5;28mself\u001b[39m\u001b[38;5;241m.\u001b[39m_backward_pre_hooks \u001b[38;5;129;01mor\u001b[39;00m \u001b[38;5;28mself\u001b[39m\u001b[38;5;241m.\u001b[39m_forward_hooks \u001b[38;5;129;01mor\u001b[39;00m \u001b[38;5;28mself\u001b[39m\u001b[38;5;241m.\u001b[39m_forward_pre_hooks\n\u001b[1;32m   1525\u001b[0m         \u001b[38;5;129;01mor\u001b[39;00m _global_backward_pre_hooks \u001b[38;5;129;01mor\u001b[39;00m _global_backward_hooks\n\u001b[1;32m   1526\u001b[0m         \u001b[38;5;129;01mor\u001b[39;00m _global_forward_hooks \u001b[38;5;129;01mor\u001b[39;00m _global_forward_pre_hooks):\n\u001b[0;32m-> 1527\u001b[0m     \u001b[38;5;28;01mreturn\u001b[39;00m \u001b[43mforward_call\u001b[49m\u001b[43m(\u001b[49m\u001b[38;5;241;43m*\u001b[39;49m\u001b[43margs\u001b[49m\u001b[43m,\u001b[49m\u001b[43m \u001b[49m\u001b[38;5;241;43m*\u001b[39;49m\u001b[38;5;241;43m*\u001b[39;49m\u001b[43mkwargs\u001b[49m\u001b[43m)\u001b[49m\n\u001b[1;32m   1529\u001b[0m \u001b[38;5;28;01mtry\u001b[39;00m:\n\u001b[1;32m   1530\u001b[0m     result \u001b[38;5;241m=\u001b[39m \u001b[38;5;28;01mNone\u001b[39;00m\n",
      "File \u001b[0;32m~/dev/jobLLMatch/venv/lib/python3.11/site-packages/transformers/models/bert/modeling_bert.py:238\u001b[0m, in \u001b[0;36mBertEmbeddings.forward\u001b[0;34m(self, input_ids, token_type_ids, position_ids, inputs_embeds, past_key_values_length)\u001b[0m\n\u001b[1;32m    236\u001b[0m \u001b[38;5;28;01mif\u001b[39;00m \u001b[38;5;28mself\u001b[39m\u001b[38;5;241m.\u001b[39mposition_embedding_type \u001b[38;5;241m==\u001b[39m \u001b[38;5;124m\"\u001b[39m\u001b[38;5;124mabsolute\u001b[39m\u001b[38;5;124m\"\u001b[39m:\n\u001b[1;32m    237\u001b[0m     position_embeddings \u001b[38;5;241m=\u001b[39m \u001b[38;5;28mself\u001b[39m\u001b[38;5;241m.\u001b[39mposition_embeddings(position_ids)\n\u001b[0;32m--> 238\u001b[0m     \u001b[43membeddings\u001b[49m\u001b[43m \u001b[49m\u001b[38;5;241;43m+\u001b[39;49m\u001b[38;5;241;43m=\u001b[39;49m\u001b[43m \u001b[49m\u001b[43mposition_embeddings\u001b[49m\n\u001b[1;32m    239\u001b[0m embeddings \u001b[38;5;241m=\u001b[39m \u001b[38;5;28mself\u001b[39m\u001b[38;5;241m.\u001b[39mLayerNorm(embeddings)\n\u001b[1;32m    240\u001b[0m embeddings \u001b[38;5;241m=\u001b[39m \u001b[38;5;28mself\u001b[39m\u001b[38;5;241m.\u001b[39mdropout(embeddings)\n",
      "\u001b[0;31mRuntimeError\u001b[0m: The size of tensor a (624) must match the size of tensor b (512) at non-singleton dimension 1"
     ]
    }
   ],
   "source": [
    "jd_path = \"/Users/andreasloutzidis/Downloads/jobLLMatch/Datasets/job_descriptions/data_scientist_txt\"\n",
    "data_path = \"/Users/andreasloutzidis/Downloads/indeed_data\"\n",
    "\n",
    "# senior_jd = os.path.join(data_path, \"jd_SWE_senior\", \"jd_1.txt\")\n",
    "senior_jd = os.path.join(data_path, \"jd_SWE_senior\", \"senior_swe_comcast.txt\")\n",
    "junior_resume_dir = os.path.join(data_path, \"SWE_junior_le_2years_txt/\")\n",
    "mid_resume_dir = os.path.join(data_path, \"SWE_mid_ge_3years_le_5years_txt\")\n",
    "senior_resume_dir = os.path.join(data_path, \"SWE_senior_ge_6years_txt/\")\n",
    "frontend_junior_resume_dir = os.path.join(data_path, \"frontend_junior_txt\")\n",
    "frontend_mid_resume_dir = os.path.join(data_path, \"frontend_mid_txt\")\n",
    "\n",
    "\n",
    "# now we have a list of job descriptions ANDF a list of resumes.\n",
    "# Calculate the avg cosine siomilarity among all resumes and job descriptions\n",
    "\n",
    "avg_cosine_similarity = []\n",
    "for jd in os.listdir(jd_path):\n",
    "    if jd.endswith(\".txt\"):\n",
    "        cos_sim = get_cosine_similarity(\n",
    "                    resume_dir=junior_resume_dir,\n",
    "                    job_description_path=os.path.join(jd_path, jd),\n",
    "                    jd_window=2000,\n",
    "                    res_window=2000\n",
    "                    )\n",
    "        avg_cosine_similarity.append(cos_sim)\n",
    "print(f\"Average cos similarity across all jd and resume: {sum(avg_cosine_similarity)/len(avg_cosine_similarity):.02f}\")\n"
   ]
  },
  {
   "cell_type": "code",
   "execution_count": null,
   "id": "ce2422f2",
   "metadata": {},
   "outputs": [],
   "source": []
  },
  {
   "cell_type": "markdown",
   "id": "2a13c6b9",
   "metadata": {},
   "source": [
    "# Cleaning the raw txt resume dataset"
   ]
  },
  {
   "cell_type": "code",
   "execution_count": 64,
   "metadata": {},
   "outputs": [],
   "source": [
    "input_dir = \"/Users/andreasloutzidis/Downloads/indeed_data/final_dataset/resume/resume_unity_txt\"\n",
    "output_dir = \"/Users/andreasloutzidis/Downloads/indeed_data/final_dataset/resume/resume_unity_clean\""
   ]
  },
  {
   "cell_type": "code",
   "execution_count": 63,
   "id": "be980a6c",
   "metadata": {},
   "outputs": [],
   "source": [
    "def clean_text(text):\n",
    "    # Remove HTML tags\n",
    "    text = re.sub(r'<[^>]+>', '', text)\n",
    "\n",
    "    # Remove URLs\n",
    "    text = re.sub(r'http[s]?://\\S+', '', text)\n",
    "\n",
    "    # Remove special characters and symbols\n",
    "    text = re.sub(r'[^A-Za-z0-9]+', ' ', text)\n",
    "\n",
    "    # Remove extra whitespaces\n",
    "    text = ' '.join(text.split())\n",
    "\n",
    "    # Convert to lowercase\n",
    "    text = text.lower()\n",
    "\n",
    "    return text\n",
    "\n",
    "def clean_directory(input_dir, output_dir):\n",
    "    avg_length = 0\n",
    "    count = 0\n",
    "    lengths_list = []\n",
    "    file_length_dict = {}\n",
    "    for filename in os.listdir(input_dir):\n",
    "        if filename.endswith(\".txt\"):\n",
    "            input_file_path = os.path.join(input_dir, filename)\n",
    "            with open(input_file_path, \"r\", encoding=\"utf-8\") as file:\n",
    "                file_contents = file.read()\n",
    "\n",
    "            clean_txt = clean_text(file_contents)\n",
    "            avg_length += len(clean_txt)\n",
    "            lengths_list.append(len(clean_txt))\n",
    "            count += 1\n",
    "            output_file_path = os.path.join(output_dir, filename)\n",
    "            with open(output_file_path, \"w\", encoding=\"utf-8\") as file:\n",
    "                file.write(clean_txt)\n",
    "            \n",
    "            # create a dictionary that contains the filename and the length of the file\n",
    "            # this is useful for later analysis\n",
    "            file_length_dict[filename] = len(clean_txt)\n",
    "    avg_length = int(avg_length / count)\n",
    "    # print(f\"dir: {input_dir}, files: {count}, avg length: {avg_length}\")\n",
    "\n",
    "    return {\n",
    "        \"avg_length\": avg_length,\n",
    "        \"count\": count,\n",
    "        \"lengths_list\": lengths_list\n",
    "    }, file_length_dict\n",
    "\n"
   ]
  },
  {
   "cell_type": "code",
   "execution_count": 65,
   "metadata": {},
   "outputs": [],
   "source": [
    "results, file_length_dict = clean_directory(input_dir, output_dir)"
   ]
  },
  {
   "cell_type": "code",
   "execution_count": 80,
   "metadata": {},
   "outputs": [
    {
     "name": "stdout",
     "output_type": "stream",
     "text": [
      "Number of resumes: 2861\n",
      "\n",
      "Average length of resumes: 4740\n",
      "\n",
      "Min length of resumes: 329\n",
      "\n",
      "Max length of resumes: 31815\n",
      "\n",
      "Median length of resumes: 3817.0\n",
      "\n",
      "Standard deviation of resumes: 3407.5648806015683\n",
      "\n"
     ]
    },
    {
     "data": {
      "image/png": "[encoded data removed]",
      "text/plain": [
       "<Figure size 640x480 with 1 Axes>"
      ]
     },
     "metadata": {},
     "output_type": "display_data"
    }
   ],
   "source": [
    "import numpy as np\n",
    "import matplotlib.pyplot as plt\n",
    "\n",
    "median = np.median(results['lengths_list'])\n",
    "std = np.std(results['lengths_list'])\n",
    "\n",
    "print(f\"Number of resumes: {results['count']}\\n\")\n",
    "print(f\"Average length of resumes: {results['avg_length']}\\n\")\n",
    "print(f\"Min length of resumes: {min(results['lengths_list'])}\\n\")\n",
    "print(f\"Max length of resumes: {max(results['lengths_list'])}\\n\")\n",
    "print(f\"Median length of resumes: {np.median(results['lengths_list'])}\\n\")\n",
    "print(f\"Standard deviation of resumes: {np.std(results['lengths_list'])}\\n\")\n",
    "\n",
    "# create a histogram of the lengths of the resumes\n",
    "plt.hist(results['lengths_list'], bins=100)\n",
    "plt.xlabel(\"Resume length\")\n",
    "plt.ylabel(\"Frequency\")\n",
    "plt.savefig(\"resume_length_histogram_raw.png\")\n",
    "plt.show()"
   ]
  },
  {
   "cell_type": "code",
   "execution_count": 82,
   "metadata": {},
   "outputs": [
    {
     "name": "stdout",
     "output_type": "stream",
     "text": [
      "Number of norm resumes: 2480\n",
      "\n",
      "Average length of norm resumes: 3678\n",
      "\n",
      "Min length of norm resumes: 545\n",
      "\n",
      "Max length of norm resumes: 7216\n",
      "\n",
      "Median length of norm resumes: 3537.5\n",
      "\n",
      "Standard deviation of norm resumes: 1414.749976320491\n",
      "\n"
     ]
    },
    {
     "data": {
      "image/png": "[encoded data removed]",
      "text/plain": [
       "<Figure size 640x480 with 1 Axes>"
      ]
     },
     "metadata": {},
     "output_type": "display_data"
    }
   ],
   "source": [
    "# normalizing resume. transfer resumes outside -std, +std to a new directory\n",
    "\n",
    "input_dir = \"/Users/andreasloutzidis/Downloads/indeed_data/final_dataset/resume/resume_unity_clean\"\n",
    "norm_output_dir = \"/Users/andreasloutzidis/Downloads/indeed_data/final_dataset/resume/resume_unity_norm\"\n",
    "norm_count = 0\n",
    "norm_lengths_list = []\n",
    "\n",
    "for filename in os.listdir(input_dir):\n",
    "    if filename.endswith(\".txt\"):\n",
    "        if file_length_dict[filename] < (median - std) or file_length_dict[filename] > (median + std):\n",
    "            continue\n",
    "        else:\n",
    "            norm_count += 1\n",
    "            norm_lengths_list.append(file_length_dict[filename])\n",
    "            input_file_path = os.path.join(input_dir, filename)\n",
    "            with open(input_file_path, \"r\", encoding=\"utf-8\") as file:\n",
    "                file_contents = file.read()\n",
    "            output_file_path = os.path.join(norm_output_dir, filename)\n",
    "            with open(output_file_path, \"w\", encoding=\"utf-8\") as file:\n",
    "                file.write(file_contents)\n",
    "            \n",
    "print(f\"Number of norm resumes: {norm_count}\\n\")\n",
    "print(f\"Average length of norm resumes: {int(np.mean(norm_lengths_list))}\\n\")\n",
    "print(f\"Min length of norm resumes: {min(norm_lengths_list)}\\n\")\n",
    "print(f\"Max length of norm resumes: {max(norm_lengths_list)}\\n\")\n",
    "print(f\"Median length of norm resumes: {np.median(norm_lengths_list)}\\n\")\n",
    "print(f\"Standard deviation of norm resumes: {np.std(norm_lengths_list)}\\n\")\n",
    "\n",
    "# create a histogram of the lengths of the resumes\n",
    "import matplotlib.pyplot as plt\n",
    "plt.hist(norm_lengths_list, bins=100)\n",
    "plt.xlabel(\"Resume length\")\n",
    "plt.ylabel(\"Frequency\")\n",
    "plt.savefig(\"resume_length_histogram_norm.png\")\n",
    "plt.show()\n",
    "\n",
    "    "
   ]
  },
  {
   "cell_type": "markdown",
   "metadata": {},
   "source": [
    "# Data statistics\n",
    "BEFORE PROCESSING\n",
    "- Number of resumes: 2861\n",
    "- Average length of resumes: 4740\n",
    "- Min length of resumes: 329\n",
    "- Max length of resumes: 31815\n",
    "- Median length of resumes: 3817.0\n",
    "- Standard deviation of resumes: 3407.5648806015683\n",
    "- Variance of resumes: 11611498.41550918\n",
    "\n",
    "AFTER NORMALIZING\n",
    "- Number of norm resumes: 2480\n",
    "- Average length of norm resumes: 3678\n",
    "- Min length of norm resumes: 545\n",
    "- Max length of norm resumes: 7216\n",
    "- Median length of norm resumes: 3537.5\n",
    "- Standard deviation of norm resumes: 1414.749976320491"
   ]
  },
  {
   "cell_type": "markdown",
   "metadata": {},
   "source": [
    "# Job description Cleaing"
   ]
  },
  {
   "cell_type": "code",
   "execution_count": 91,
   "metadata": {},
   "outputs": [],
   "source": [
    "jd_raw = \"/Users/andreasloutzidis/Downloads/indeed_data/final_dataset/job_descr/jd_unity_raw\"\n",
    "jd_clean = \"/Users/andreasloutzidis/Downloads/indeed_data/final_dataset/job_descr/jd_unity_clean\""
   ]
  },
  {
   "cell_type": "code",
   "execution_count": 92,
   "metadata": {},
   "outputs": [],
   "source": [
    "jd_results, jd_file_length_dict = clean_directory(jd_raw, jd_clean)"
   ]
  },
  {
   "cell_type": "code",
   "execution_count": 93,
   "metadata": {},
   "outputs": [
    {
     "name": "stdout",
     "output_type": "stream",
     "text": [
      "Number of job descriptions: 103\n",
      "\n",
      "Average length of job descriptions: 2148\n",
      "\n",
      "Min length of job descriptions: 529\n",
      "\n",
      "Max length of job descriptions: 4992\n",
      "\n",
      "Median length of job descriptions: 1975.0\n",
      "\n",
      "Standard deviation of job descriptions: 910.3147719718323\n",
      "\n"
     ]
    },
    {
     "data": {
      "image/png": "[encoded data removed]",
      "text/plain": [
       "<Figure size 640x480 with 1 Axes>"
      ]
     },
     "metadata": {},
     "output_type": "display_data"
    }
   ],
   "source": [
    "import numpy as np\n",
    "import matplotlib.pyplot as plt\n",
    "\n",
    "median = np.median(jd_results['lengths_list'])\n",
    "std = np.std(jd_results['lengths_list'])\n",
    "\n",
    "print(f\"Number of job descriptions: {jd_results['count']}\\n\")\n",
    "print(f\"Average length of job descriptions: {jd_results['avg_length']}\\n\")\n",
    "print(f\"Min length of job descriptions: {min(jd_results['lengths_list'])}\\n\")\n",
    "print(f\"Max length of job descriptions: {max(jd_results['lengths_list'])}\\n\")\n",
    "print(f\"Median length of job descriptions: {np.median(jd_results['lengths_list'])}\\n\")\n",
    "print(f\"Standard deviation of job descriptions: {np.std(jd_results['lengths_list'])}\\n\")\n",
    "\n",
    "# create a histogram of the lengths of the resumes\n",
    "plt.hist(jd_results['lengths_list'], bins=15)\n",
    "plt.xlabel(\"Job Description length\")\n",
    "plt.ylabel(\"Frequency\")\n",
    "plt.savefig(\"job_descr_histogram_raw.png\")\n",
    "plt.show()"
   ]
  },
  {
   "cell_type": "code",
   "execution_count": 94,
   "metadata": {},
   "outputs": [
    {
     "name": "stdout",
     "output_type": "stream",
     "text": [
      "Number of norm job descriptions: 96\n",
      "\n",
      "Average length of norm job descriptions: 1986\n",
      "\n",
      "Min length of norm job descriptions: 529\n",
      "\n",
      "Max length of norm job descriptions: 3586\n",
      "\n",
      "Median length of norm job descriptions: 1935.5\n",
      "\n",
      "Standard deviation of norm job descriptions: 700.8180598532639\n",
      "\n"
     ]
    },
    {
     "data": {
      "image/png": "[encoded data removed]",
      "text/plain": [
       "<Figure size 640x480 with 1 Axes>"
      ]
     },
     "metadata": {},
     "output_type": "display_data"
    }
   ],
   "source": [
    "# normalizing resume. transfer resumes outside -std, +std to a new directory\n",
    "\n",
    "input_dir = jd_clean\n",
    "norm_output_dir = \"/Users/andreasloutzidis/Downloads/indeed_data/final_dataset/job_descr/jd_unity_norm\"\n",
    "jd_norm_count = 0\n",
    "jd_norm_lengths_list = []\n",
    "\n",
    "for filename in os.listdir(input_dir):\n",
    "    if filename.endswith(\".txt\"):\n",
    "        if jd_file_length_dict[filename] < (median - 2*std) or jd_file_length_dict[filename] > (median + 2*std):\n",
    "            continue\n",
    "        else:\n",
    "            jd_norm_count += 1\n",
    "            jd_norm_lengths_list.append(jd_file_length_dict[filename])\n",
    "            input_file_path = os.path.join(input_dir, filename)\n",
    "            with open(input_file_path, \"r\", encoding=\"utf-8\") as file:\n",
    "                file_contents = file.read()\n",
    "            output_file_path = os.path.join(norm_output_dir, filename)\n",
    "            with open(output_file_path, \"w\", encoding=\"utf-8\") as file:\n",
    "                file.write(file_contents)\n",
    "            \n",
    "print(f\"Number of norm job descriptions: {jd_norm_count}\\n\")\n",
    "print(f\"Average length of norm job descriptions: {int(np.mean(jd_norm_lengths_list))}\\n\")\n",
    "print(f\"Min length of norm job descriptions: {min(jd_norm_lengths_list)}\\n\")\n",
    "print(f\"Max length of norm job descriptions: {max(jd_norm_lengths_list)}\\n\")\n",
    "print(f\"Median length of norm job descriptions: {np.median(jd_norm_lengths_list)}\\n\")\n",
    "print(f\"Standard deviation of norm job descriptions: {np.std(jd_norm_lengths_list)}\\n\")\n",
    "\n",
    "# create a histogram of the lengths of the resumes\n",
    "import matplotlib.pyplot as plt\n",
    "plt.hist(jd_norm_lengths_list, bins=15)\n",
    "plt.xlabel(\"Resume length\")\n",
    "plt.ylabel(\"Frequency\")\n",
    "plt.savefig(\"job_descr_histogram_norm.png\")\n",
    "plt.show()\n",
    "\n",
    "    "
   ]
  },
  {
   "cell_type": "markdown",
   "metadata": {},
   "source": [
    "# Results statistics Job descriptions"
   ]
  },
  {
   "cell_type": "markdown",
   "metadata": {},
   "source": [
    "JOB DESCRIPTIONS (CLEAN)\n",
    "- Number of job descriptions: 103\n",
    "- Average length of job descriptions: 2148\n",
    "- Min length of job descriptions: 529\n",
    "- Max length of job descriptions: 4992\n",
    "- Median length of job descriptions: 1975.0\n",
    "- Standard deviation of job descriptions: 910.3147719718323\n",
    "\n",
    "JOB DESCRIPTIONS (NORM)\n",
    "- Number of norm job descriptions: 96\n",
    "- Average length of norm job descriptions: 1986\n",
    "- Min length of norm job descriptions: 529\n",
    "- Max length of norm job descriptions: 3586\n",
    "- Median length of norm job descriptions: 1935.5\n",
    "- Standard deviation of norm job descriptions: 700.8180598532639"
   ]
  },
  {
   "cell_type": "code",
   "execution_count": 96,
   "metadata": {},
   "outputs": [
    {
     "data": {
      "image/png": "[encoded data removed]",
      "text/plain": [
       "<Figure size 1000x1000 with 4 Axes>"
      ]
     },
     "metadata": {},
     "output_type": "display_data"
    }
   ],
   "source": [
    "# # diagram 1\n",
    "# # create a histogram of the lengths of the resumes\n",
    "# fig, axs = plt.subplots(1, 2, figsize=(10, 5))\n",
    "# axs[0].hist(results['lengths_list'], bins=100)\n",
    "# axs[0].set_xlabel(\"Resume length\")\n",
    "# axs[0].set_ylabel(\"Frequency\")\n",
    "# axs[0].set_title(\"Raw Resumes\")\n",
    "\n",
    "# # diagram 2\n",
    "# axs[1].hist(norm_lengths_list, bins=100)\n",
    "# axs[1].set_xlabel(\"Resume length\")\n",
    "# axs[1].set_ylabel(\"Frequency\")\n",
    "# axs[1].set_title(\"Normalized Resumes\")\n",
    "\n",
    "# # plt.savefig(\"resume_length_histogram_combined.png\")\n",
    "# plt.show()\n",
    "\n",
    "# create a histogram of the lengths of the resumes\n",
    "fig, axs = plt.subplots(2, 2, figsize=(10, 10))\n",
    "\n",
    "# diagram 1\n",
    "axs[0, 0].hist(results['lengths_list'], bins=100)\n",
    "axs[0, 0].set_xlabel(\"Document Length\")\n",
    "axs[0, 0].set_ylabel(\"Frequency\")\n",
    "axs[0, 0].set_title(\"Raw Resumes\")\n",
    "\n",
    "# diagram 2\n",
    "axs[0, 1].hist(norm_lengths_list, bins=100)\n",
    "axs[0, 1].set_xlabel(\"Document Length\")\n",
    "axs[0, 1].set_ylabel(\"Frequency\")\n",
    "axs[0, 1].set_title(\"Normalized Resumes\")\n",
    "\n",
    "# diagram 3\n",
    "axs[1, 0].hist(jd_results['lengths_list'], bins=20)\n",
    "axs[1, 0].set_xlabel(\"Document Length\")\n",
    "axs[1, 0].set_ylabel(\"Frequency\")\n",
    "axs[1, 0].set_title(\"Raw Job Descriptions\")\n",
    "\n",
    "# diagram 4\n",
    "axs[1, 1].hist(jd_norm_lengths_list, bins=20)\n",
    "axs[1, 1].set_xlabel(\"Document Length\")\n",
    "axs[1, 1].set_ylabel(\"Frequency\")\n",
    "axs[1, 1].set_title(\"Normalized Job Descriptions\")\n",
    "\n",
    "plt.tight_layout()\n",
    "plt.savefig(\"combined_histograms.png\")\n",
    "plt.show()\n",
    "    "
   ]
  }
 ],
 "metadata": {
  "kernelspec": {
   "display_name": "jobLLMatch_kernel",
   "language": "python",
   "name": "jobllmatch_kernel"
  },
  "language_info": {
   "codemirror_mode": {
    "name": "ipython",
    "version": 3
   },
   "file_extension": ".py",
   "mimetype": "text/x-python",
   "name": "python",
   "nbconvert_exporter": "python",
   "pygments_lexer": "ipython3",
   "version": "3.11.5"
  }
 },
 "nbformat": 4,
 "nbformat_minor": 5
}
